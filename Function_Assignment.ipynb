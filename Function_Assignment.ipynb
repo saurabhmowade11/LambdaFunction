{
 "cells": [
  {
   "cell_type": "code",
   "execution_count": 1,
   "id": "fb3e90f3",
   "metadata": {},
   "outputs": [
    {
     "data": {
      "text/plain": [
       "17"
      ]
     },
     "execution_count": 1,
     "metadata": {},
     "output_type": "execute_result"
    }
   ],
   "source": [
    "#Q1.\n",
    "# Define a function calls addNumber(x, y) that takes in two number and returns the sum of the two numbers.\n",
    "\n",
    "def addNumber(x,y):\n",
    "    c=x+y\n",
    "    return c\n",
    "\n",
    "addNumber(8,9)\n"
   ]
  },
  {
   "cell_type": "code",
   "execution_count": 2,
   "id": "b10b38bc",
   "metadata": {},
   "outputs": [
    {
     "data": {
      "text/plain": [
       "5"
      ]
     },
     "execution_count": 2,
     "metadata": {},
     "output_type": "execute_result"
    }
   ],
   "source": [
    "#Q2.\n",
    "# Define a function calls subtractNumber(x, y) that takes in two numbers and returns the difference of the two numbers.\n",
    "\n",
    "def subtractNumber(x,y):\n",
    "    return x-y\n",
    "\n",
    "subtractNumber(6,1)"
   ]
  },
  {
   "cell_type": "code",
   "execution_count": 5,
   "id": "47021992",
   "metadata": {},
   "outputs": [
    {
     "name": "stdout",
     "output_type": "stream",
     "text": [
      "The bigger number is:=>\n"
     ]
    },
    {
     "data": {
      "text/plain": [
       "63"
      ]
     },
     "execution_count": 5,
     "metadata": {},
     "output_type": "execute_result"
    }
   ],
   "source": [
    "#Q3.\n",
    "# Write a function getBiggerNumber(x, y) that takes in two numbers as arguments and returns the bigger number.\n",
    "\n",
    "def getBiggerNumber(x,y):\n",
    "    \n",
    "    if(x>y):\n",
    "        print(\"The bigger number is:=>\")\n",
    "        return x\n",
    "    else:\n",
    "        print(\"The bigger number is:=>\")\n",
    "        return y\n",
    "    \n",
    "getBiggerNumber(10,63)"
   ]
  },
  {
   "cell_type": "code",
   "execution_count": 11,
   "id": "636d2180",
   "metadata": {},
   "outputs": [
    {
     "name": "stdout",
     "output_type": "stream",
     "text": [
      "Square root of the number is 4.0\n",
      "\n",
      "The value of 3 to the power 5 is 243.0\n",
      "\n",
      "The area of the circle having radius 3.0 is 28.274333882308138\n"
     ]
    }
   ],
   "source": [
    "#Q4.\n",
    "# Python provides many built-in modules with many useful functions. \n",
    "# One such module is the math module. The math module provides many useful functions such as sqrt(x), pow(x, y), ceil(x), floor(x) etc. \n",
    "# You will need to do a \"import math\" before you are allowed to use the functions within the math module.\n",
    "\n",
    "\n",
    "# Calculate the square root of 16 and stores it in the variable a\n",
    "\n",
    "\n",
    "# Calculate 3 to the power of 5 and stores it in the variable b\n",
    "\n",
    "\n",
    "# Calculate area of circle with radius = 3.0 by making use of the math.pi constant and store it in the variable c\n",
    "\n",
    "import math\n",
    "\n",
    "a=math.sqrt(16)\n",
    "print(\"Square root of the number is\",a)\n",
    "\n",
    "b=math.pow(3,5)\n",
    "print(\"\\nThe value of 3 to the power 5 is\",b)\n",
    "\n",
    "c=math.pi*3.0**2\n",
    "print(\"\\nThe area of the circle having radius 3.0 is\",c)\n"
   ]
  },
  {
   "cell_type": "code",
   "execution_count": 20,
   "id": "7989e53e",
   "metadata": {},
   "outputs": [
    {
     "data": {
      "text/plain": [
       "'82.40'"
      ]
     },
     "execution_count": 20,
     "metadata": {},
     "output_type": "execute_result"
    }
   ],
   "source": [
    "#Q5.\n",
    "# Write a function to convert temperature from Celsius to Fahrenheit scale.\n",
    "# oC to oF Conversion: Multipy by 9, then divide by 5, then add 32.\n",
    "\n",
    "# Note: Return a string of 2 decimal places.\n",
    "# In - Cel2Fah(28.0)\n",
    "# Out - '82.40'\n",
    "# In - Cel2Fah(0.00)\n",
    "# Out - '32.00'\n",
    "\n",
    "def Cel2Fah(x):\n",
    "    a=((x*9)/5)+32\n",
    "    out='{:.2f}'.format(a)\n",
    "    return out\n",
    "\n",
    "Cel2Fah(28.0)\n",
    "    "
   ]
  },
  {
   "cell_type": "code",
   "execution_count": 29,
   "id": "05f313a1",
   "metadata": {},
   "outputs": [
    {
     "data": {
      "text/plain": [
       "'21.8'"
      ]
     },
     "execution_count": 29,
     "metadata": {},
     "output_type": "execute_result"
    }
   ],
   "source": [
    "#Q6.\n",
    "# Write a function to compute the BMI of a person.\n",
    "#     BMI = weight(kg)  /  ( height(m)*height(m) )\n",
    "\n",
    "# Note: Return a string of 1 decimal place.\n",
    "# In - BMI(63, 1.7)\n",
    "# Out - '21.8'\n",
    "# In - BMI(110, 2)\n",
    "# Out - '27.5'\n",
    "\n",
    "def BMI(x,y):\n",
    "    a=(x/(y*y))\n",
    "    out='{:.1f}'.format(a)\n",
    "    return out\n",
    "\n",
    "BMI(63,1.7)\n",
    "\n"
   ]
  },
  {
   "cell_type": "code",
   "execution_count": 24,
   "id": "8686747f",
   "metadata": {},
   "outputs": [
    {
     "name": "stdout",
     "output_type": "stream",
     "text": [
      "51\n",
      "525\n"
     ]
    }
   ],
   "source": [
    "#Q7.\n",
    "# Write a function percent(value, total) that takes in two numbers as arguments, and returns the percentage value as an integer.\n",
    "# In - percent(46, 90)\n",
    "# Out - 51\n",
    "# In - percent(51, 51)\n",
    "# Out - 100\n",
    "# In - percent(63, 12)\n",
    "# Out - 525\n",
    "\n",
    "def percent(value,total):\n",
    "    a=(value/total)*100\n",
    "    return int(a)\n",
    "\n",
    "print(percent(46,90))\n",
    "print(percent(63,12))"
   ]
  },
  {
   "cell_type": "code",
   "execution_count": 27,
   "id": "fdb82708",
   "metadata": {},
   "outputs": [
    {
     "name": "stdout",
     "output_type": "stream",
     "text": [
      "5\n",
      "13\n"
     ]
    }
   ],
   "source": [
    "#Q8.\n",
    "# Write a function to compute the hypotenuse given sides a and b of the triangle.\n",
    "# Hint: You can use math.sqrt(x) to compute the square root of x.\n",
    "# In - hypotenuse(3, 4)\n",
    "# Out - 5\n",
    "# In - hypotenuse(5, 12)\n",
    "# Out - 13\n",
    "\n",
    "import math\n",
    "\n",
    "def hypotenuse(x,y):\n",
    "    a=math.sqrt(((x**2)+(y**2)))\n",
    "    return int(a)\n",
    "\n",
    "print(hypotenuse(3,4))\n",
    "print(hypotenuse(5,12))"
   ]
  },
  {
   "cell_type": "code",
   "execution_count": 68,
   "id": "91fc301d",
   "metadata": {},
   "outputs": [
    {
     "name": "stdout",
     "output_type": "stream",
     "text": [
      "9\n",
      "10\n"
     ]
    }
   ],
   "source": [
    "#Q9.\n",
    "# Write a function getSumOfLastDigits() that takes in a list of positive numbers and returns the sum of all the last digits in the list.\n",
    "# getSumOfLastDigits([2, 3, 4])\n",
    "# 9\n",
    "# getSumOfLastDigits([1, 23, 456])\n",
    "# 10\n",
    "def getSumOfLastDigits(lst):\n",
    "    count=0\n",
    "    for i in range(len(lst)):\n",
    "        count=count+(lst[i]%10)\n",
    "    return count\n",
    "\n",
    "print(getSumOfLastDigits([2,3,4]))\n",
    "print(getSumOfLastDigits([1,23,456]))\n"
   ]
  },
  {
   "cell_type": "code",
   "execution_count": 41,
   "id": "d3594a67",
   "metadata": {},
   "outputs": [
    {
     "name": "stdout",
     "output_type": "stream",
     "text": [
      "My name is Lim. I am 20 years old\n",
      "My name is Ahmad. My age is secret\n"
     ]
    }
   ],
   "source": [
    "#Q10.\n",
    "# Write a function that uses a default value.\n",
    "# In - introduce('Lim', 20)\n",
    "# Out - 'My name is Lim. I am 20 years old.'\n",
    "# In - introduce('Ahmad')\n",
    "# Out - 'My name is Ahmad. My age is secret.'\n",
    "\n",
    "def introduce(x,y):\n",
    "    if(x=='Lim'):\n",
    "        print(f'My name is {x}. I am {y} years old')\n",
    "    else:\n",
    "        print(f'My name is {x}. My age is secret')\n",
    "\n",
    "introduce('Lim',20)\n",
    "introduce('Ahmad',20)"
   ]
  },
  {
   "cell_type": "code",
   "execution_count": 45,
   "id": "92a65182",
   "metadata": {},
   "outputs": [
    {
     "name": "stdout",
     "output_type": "stream",
     "text": [
      "False\n",
      "True\n",
      "False\n"
     ]
    }
   ],
   "source": [
    "#Q11.\n",
    "# Write a function isEquilateral(x, y, z) that accepts the 3 sides of a triangle as arguments. \n",
    "# The program should return True if it is an equilateral triangle.\n",
    "\n",
    "# In - isEquilateral(2, 4, 3)\n",
    "# False - False\n",
    "# In - isEquilateral(3, 3, 3)\n",
    "# Out - True\n",
    "# In - isEquilateral(-3, -3, -3)\n",
    "# Out - False\n",
    "\n",
    "def isEquilateral(x,y,z):\n",
    "    if(x>0 and y>0 and z>0):\n",
    "        if(x==y==z):\n",
    "            return True\n",
    "        else:\n",
    "            return False\n",
    "    else:\n",
    "        return False\n",
    "    \n",
    "\n",
    "print(isEquilateral(2,4,3))\n",
    "\n",
    "print(isEquilateral(3,3,3))\n",
    "\n",
    "print(isEquilateral(-3,-3,-3))"
   ]
  },
  {
   "cell_type": "code",
   "execution_count": 49,
   "id": "10236c07",
   "metadata": {},
   "outputs": [
    {
     "name": "stdout",
     "output_type": "stream",
     "text": [
      "The discriminant is -8\n",
      "The discriminant is 1\n",
      "The discriminant is 0\n"
     ]
    }
   ],
   "source": [
    "#Q12.\n",
    "# For a quadratic equation in the form of ax2+bx+c, the discriminant, D is b2-4ac. Write a function to compute the discriminant, D.\n",
    "# In - quadratic(1, 2, 3)\n",
    "# Out - 'The discriminant is -8.'\n",
    "# In - quadratic(1, 3, 2)\n",
    "# Out - 'The discriminant is 1.'\n",
    "# In - quadratic(1, 4, 4)\n",
    "# Out - 'The discriminant is 0.'\n",
    "\n",
    "def quadratic(a,b,c):\n",
    "    x=(b**2)-(4*a*c)\n",
    "    print('The discriminant is',x)\n",
    "    \n",
    "quadratic(1,2,3)\n",
    "quadratic(1,3,2)\n",
    "quadratic(1,4,4)"
   ]
  },
  {
   "cell_type": "code",
   "execution_count": 63,
   "id": "b7d41d4d",
   "metadata": {},
   "outputs": [
    {
     "data": {
      "text/plain": [
       "10"
      ]
     },
     "execution_count": 63,
     "metadata": {},
     "output_type": "execute_result"
    }
   ],
   "source": [
    "#Q13.\n",
    "# Define a function calls addFirstAndLast(x) that takes in a list of numbers and returns the sum of the first and last numbers.\n",
    "# In - addFirstAndLast([])\n",
    "# Out - 0\n",
    "# In - addFirstAndLast([2, 7, 3])\n",
    "# Out - 5\n",
    "# In - addFirstAndLast([10])\n",
    "# Out - 10\n",
    "\n",
    "def addFirstAndLast(lst):\n",
    "    if(lst==[]):\n",
    "        return 0\n",
    "    elif(len(lst)==1):\n",
    "        return lst[0]\n",
    "    else:\n",
    "        sum=lst[0]+lst[-1]\n",
    "        return sum\n",
    "\n",
    "#addFirstAndLast([2,7,3])\n",
    "#addFirstAndLast([])\n",
    "addFirstAndLast([10])"
   ]
  },
  {
   "cell_type": "code",
   "execution_count": 80,
   "id": "7b124d31",
   "metadata": {},
   "outputs": [
    {
     "data": {
      "text/plain": [
       "True"
      ]
     },
     "execution_count": 80,
     "metadata": {},
     "output_type": "execute_result"
    }
   ],
   "source": [
    "#Q14.\n",
    "# Complete the 'lambda' expression so that it returns True if the argument is an even number, and False otherwise.\n",
    "\n",
    "#(lambda num : ---------------------------------------)(6)\n",
    "\n",
    "(lambda num:num%2==0)(6)"
   ]
  },
  {
   "cell_type": "code",
   "execution_count": null,
   "id": "17fd3cdb",
   "metadata": {},
   "outputs": [],
   "source": [
    "#Q15.\n",
    "\n",
    "# Get the documentation of below function\n",
    "\n",
    "def getScore():\n",
    "  ''''A function that computes and returns the final score.'''\n",
    "  pass"
   ]
  },
  {
   "cell_type": "code",
   "execution_count": 84,
   "id": "3be92f8d",
   "metadata": {},
   "outputs": [],
   "source": [
    "#Q16.\n",
    "# In Python, it is possible to pass a function as a argument to another function. \n",
    "# Write a function useFunction(func, num) that takes in a function and a number as arguments. \n",
    "# The useFunction should produce the output shown in the examples given below.\n",
    "\n",
    "# def addOne(x):\n",
    "#   return x + 1\n",
    "# useFunction(addOne, 4)\n",
    "# 25\n",
    "# useFunction(addOne, 9)\n",
    "# 100\n",
    "# useFunction(addOne, 0)\n",
    "# 1\n"
   ]
  },
  {
   "cell_type": "code",
   "execution_count": 92,
   "id": "af5a4c72",
   "metadata": {},
   "outputs": [
    {
     "name": "stdout",
     "output_type": "stream",
     "text": [
      "8\n",
      "Enter the first number==>9\n",
      "Enter the second number==>9\n",
      "Enter the third number==>11\n",
      "11\n"
     ]
    }
   ],
   "source": [
    "#Q17.\n",
    "# Write a function find_max that accepts three numbers as arguments and returns the largest number among three. \n",
    "# Write another function main, in main() function accept three numbers from user and call find_max.\n",
    "\n",
    "def find_max(x,y,z):\n",
    "    if(x>=y and x>=z):\n",
    "        return x\n",
    "    elif(y>=z):\n",
    "        return y\n",
    "    else:\n",
    "        return z\n",
    "\n",
    "a=find_max(5,8,7)\n",
    "print(a)\n",
    "\n",
    "def main():\n",
    "    n1=int(input(\"Enter the first number==>\"))\n",
    "    n2=int(input(\"Enter the second number==>\"))\n",
    "    n3=int(input(\"Enter the third number==>\"))\n",
    "    b=find_max(n1,n2,n3)\n",
    "    print(b)\n",
    "\n",
    "main()"
   ]
  },
  {
   "cell_type": "code",
   "execution_count": 106,
   "id": "6c27be7f",
   "metadata": {},
   "outputs": [
    {
     "name": "stdout",
     "output_type": "stream",
     "text": [
      "True\n",
      "Enter the string=>this is me counting vowel\n",
      "Number of vowels in the string are 8\n"
     ]
    }
   ],
   "source": [
    "#Q18.\n",
    "# Write a function, is_vowel that returns the value true if a given character is a vowel, \n",
    "# and otherwise returns false. \n",
    "# Write another function main, in main() function accept a string from user and count number \n",
    "# of vowels in that string.\n",
    "\n",
    "def is_vowel(x):\n",
    "    if(x=='a' or x=='e' or x=='i' or x=='o' or x=='u' or x=='A' or x=='E' or x=='I' or x=='O' or x=='U'):\n",
    "        return True\n",
    "    else:\n",
    "        return False\n",
    "\n",
    "print(is_vowel('i'))\n",
    "\n",
    "def main():\n",
    "    str_1=input(\"Enter the string=>\")\n",
    "    count=0\n",
    "    for i in range(len(str_1)):\n",
    "        if(str_1[i]=='a' or str_1[i]=='e' or str_1[i]=='i' or str_1[i]=='o' or str_1[i]=='u' or str_1[i]=='A' or str_1[i]=='E' or str_1[i]=='I' or str_1[i]=='O' or str_1[i]=='U'):\n",
    "            count+=1\n",
    "    print(\"Number of vowels in the string are\",count)\n",
    "     \n",
    "\n",
    "main()\n",
    "        \n",
    "       \n",
    "        \n",
    "        \n",
    "        \n",
    "        \n",
    "        "
   ]
  },
  {
   "cell_type": "code",
   "execution_count": 119,
   "id": "cd56448f",
   "metadata": {},
   "outputs": [
    {
     "name": "stdout",
     "output_type": "stream",
     "text": [
      "False\n",
      "\n",
      "2\n",
      "3\n",
      "5\n",
      "7\n",
      "11\n",
      "13\n",
      "17\n",
      "19\n",
      "23\n",
      "29\n",
      "31\n",
      "37\n",
      "41\n",
      "43\n",
      "47\n",
      "53\n",
      "59\n",
      "61\n",
      "67\n",
      "71\n",
      "73\n",
      "79\n",
      "83\n",
      "89\n",
      "97\n",
      "101\n",
      "103\n",
      "107\n",
      "109\n",
      "113\n",
      "127\n",
      "131\n",
      "137\n",
      "139\n",
      "149\n",
      "151\n",
      "157\n",
      "163\n",
      "167\n",
      "173\n",
      "179\n",
      "181\n",
      "191\n",
      "193\n",
      "197\n",
      "199\n",
      "211\n",
      "223\n",
      "227\n",
      "229\n",
      "233\n",
      "239\n",
      "241\n",
      "251\n",
      "257\n",
      "263\n",
      "269\n",
      "271\n",
      "277\n",
      "281\n",
      "283\n",
      "293\n",
      "307\n",
      "311\n",
      "313\n",
      "317\n",
      "331\n",
      "337\n",
      "347\n",
      "349\n",
      "353\n",
      "359\n",
      "367\n",
      "373\n",
      "379\n",
      "383\n",
      "389\n",
      "397\n",
      "401\n",
      "409\n",
      "419\n",
      "421\n",
      "431\n",
      "433\n",
      "439\n",
      "443\n",
      "449\n",
      "457\n",
      "461\n",
      "463\n",
      "467\n",
      "479\n",
      "487\n",
      "491\n",
      "499\n"
     ]
    }
   ],
   "source": [
    "#Q19.\n",
    "# Write a function named is_prime, which takes an integer as an argument and returns true \n",
    "# if the argument is a prime number, or false otherwise. \n",
    "# Also, write the main function that displays prime numbers between 1 to 500.\n",
    "\n",
    "def is_prime(x):\n",
    "    if x>1:\n",
    "        for i in range(2,x):\n",
    "            if(x%i)==0:\n",
    "                return False\n",
    "                break\n",
    "        else:\n",
    "            return True\n",
    "    else:\n",
    "        return False\n",
    "    \n",
    "print(is_prime(4))\n",
    "print()\n",
    "\n",
    "\n",
    "\n",
    "\n",
    "\n",
    "def main():\n",
    "    for number in range(0,500):\n",
    "        if number>1:\n",
    "            for i in range(2,number):\n",
    "                if(number%i)==0:\n",
    "                    break\n",
    "            else:\n",
    "                print(number)\n",
    "\n",
    "main()"
   ]
  },
  {
   "cell_type": "code",
   "execution_count": 124,
   "id": "20b090a4",
   "metadata": {},
   "outputs": [
    {
     "name": "stdout",
     "output_type": "stream",
     "text": [
      "225\n",
      "36\n"
     ]
    }
   ],
   "source": [
    "#Q21.\n",
    "# Write a function in python to find the sum of the cube of elements in a list. \n",
    "# The list is received as an argument to the function, in turn, the function must return the sum. \n",
    "# Write the main function which invokes the above function.\n",
    "\n",
    "def Sum_cube(my_lst):\n",
    "    sum1=0\n",
    "    for i in my_lst:\n",
    "        sum1=sum1+(i**3)\n",
    "    return sum1\n",
    "\n",
    "print(Sum_cube([1,2,3,4,5]))\n",
    "print(Sum_cube([1,2,3]))        \n",
    "\n",
    "\n"
   ]
  },
  {
   "cell_type": "code",
   "execution_count": 127,
   "id": "a1b52d97",
   "metadata": {},
   "outputs": [
    {
     "name": "stdout",
     "output_type": "stream",
     "text": [
      "1500\n",
      "600\n"
     ]
    }
   ],
   "source": [
    "#Q22.\n",
    "# Write the definition of a function zero_ending(scores) to add all those values in the list of scores, \n",
    "# which are ending with zero and display the sum.\n",
    "# For example: If the scores contain [200, 456, 300, 100, 234, 678] The sum should be displayed as 600\n",
    "\n",
    "def zero_ending(scores):\n",
    "    count=0\n",
    "    for i in scores:\n",
    "        if(i%10)==0:\n",
    "            count=count+i\n",
    "    return count\n",
    "\n",
    "print(zero_ending([100,200,300,400,500,6]))\n",
    "print(zero_ending([200,456,300,100,234,678]))\n",
    "\n"
   ]
  },
  {
   "cell_type": "code",
   "execution_count": 128,
   "id": "d847f821",
   "metadata": {},
   "outputs": [
    {
     "name": "stdout",
     "output_type": "stream",
     "text": [
      "LONDON\n",
      "NEW YORK\n"
     ]
    }
   ],
   "source": [
    "#Q23.\n",
    "# Write a definition of a method count_now(places) to find and display those place names, \n",
    "# in which there are more than 5 characters.\n",
    "\n",
    "# For example :\n",
    "# If the list places contains\n",
    "# [\"DELHI\",\"LONDON\",\"PARIS\",\"NEW YORK\",\"DUBAI\"]\n",
    "# The following should get displayed :\n",
    "# LONDON\n",
    "# NEW YORK\n",
    "\n",
    "\n",
    "def count_now(places):\n",
    "    for i in places:\n",
    "        if(len(i)>5):\n",
    "            print(i)\n",
    "\n",
    "\n",
    "count_now([\"DELHI\",\"LONDON\",\"PARIS\",\"NEW YORK\",\"DUBAI\"])"
   ]
  },
  {
   "cell_type": "code",
   "execution_count": 134,
   "id": "66f853f0",
   "metadata": {},
   "outputs": [
    {
     "name": "stdout",
     "output_type": "stream",
     "text": [
      "414141\n",
      "DROND#\n",
      "GIRIRAJ#\n",
      "131313\n",
      "ZARA#\n"
     ]
    }
   ],
   "source": [
    "#Q24.\n",
    "# Write a method in python to display the elements of list thrice if it is a number and display \n",
    "# the element terminated with ‘#’ if it is not a number.\n",
    "\n",
    "# For example, if the content of list is as follows :\n",
    "# ThisList=[‘41’,‘DROND’,‘GIRIRAJ’, ‘13’,‘ZARA’]\n",
    "# The output should be\n",
    "# 414141\n",
    "# DROND#\n",
    "# GIRIRAJ#\n",
    "# 131313\n",
    "# ZARA#\n",
    "\n",
    "ThisList=['41','DROND','GIRIRAJ', '13','ZARA']\n",
    "def display_item():\n",
    "    for i in ThisList:\n",
    "        if (i[0]=='1' or i[0]=='2' or i[0]=='3' or i[0]=='4' or i[0]=='5' or i[0]=='6' or i[0]=='7' or i[0]=='8' or i[0]=='9' or i[0]=='0'):\n",
    "            i=i*3\n",
    "        else:\n",
    "            i=i+'#'\n",
    "        print(i)\n",
    "\n",
    "display_item()"
   ]
  },
  {
   "cell_type": "code",
   "execution_count": null,
   "id": "ba1c1aaa",
   "metadata": {},
   "outputs": [],
   "source": [
    "#Q25.\n",
    "# For a given list of values in descending order, write a method in python to search \n",
    "# for a value with the help of Binary Search method. \n",
    "# The method should return position of the value and should return -1 if the value not present in the list.\n",
    "\n",
    "def binary_search(my_lst,high,low,x):\n",
    "    if high>=low:\n",
    "        mid=(high+low)//2\n",
    "        if my_lst[mid]==x:\n",
    "            return mid\n",
    "        elif my_lst[mid]>x:\n",
    "            return binary_search(my_lst,high,mid-1,x)\n",
    "        else:\n",
    "            return binary_search(my_lst,mid+1,low,x)\n",
    "    else:\n",
    "        return -1\n",
    "\n",
    "my_lst=[100,90,80,70,60,50,40,30,20,10]\n",
    "\n",
    "x=300\n",
    "\n",
    "result=binary_search(my_lst,len(my_lst)-1,0,x)\n",
    "\n",
    "if result!=1:\n",
    "    print(\"Element is present at index\", str(result))\n",
    "else:\n",
    "    print(\"Element is not present in array\")"
   ]
  },
  {
   "cell_type": "code",
   "execution_count": null,
   "id": "629ac39b",
   "metadata": {},
   "outputs": [],
   "source": []
  },
  {
   "cell_type": "code",
   "execution_count": null,
   "id": "d9388386",
   "metadata": {},
   "outputs": [],
   "source": []
  }
 ],
 "metadata": {
  "kernelspec": {
   "display_name": "Python 3 (ipykernel)",
   "language": "python",
   "name": "python3"
  },
  "language_info": {
   "codemirror_mode": {
    "name": "ipython",
    "version": 3
   },
   "file_extension": ".py",
   "mimetype": "text/x-python",
   "name": "python",
   "nbconvert_exporter": "python",
   "pygments_lexer": "ipython3",
   "version": "3.9.7"
  }
 },
 "nbformat": 4,
 "nbformat_minor": 5
}
