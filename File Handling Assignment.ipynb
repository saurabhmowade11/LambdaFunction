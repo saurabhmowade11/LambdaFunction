{
 "cells": [
  {
   "cell_type": "code",
   "execution_count": 2,
   "id": "ef50493c",
   "metadata": {},
   "outputs": [
    {
     "name": "stdout",
     "output_type": "stream",
     "text": [
      "This is the content of the file \n",
      "\n",
      "we are reading the content of the file.\n"
     ]
    }
   ],
   "source": [
    "#Q1.\n",
    "# Write a function in python to read the content from \n",
    "# a text file \"poem.txt\" line by line and display the same on screen.\n",
    "\n",
    "def contentRead():\n",
    "    f1=open('Poem.txt','r')\n",
    "    a=(f1.readlines())\n",
    "    for i in a:\n",
    "        print(i)\n",
    "    f1.close()\n",
    "contentRead()\n"
   ]
  },
  {
   "cell_type": "code",
   "execution_count": 5,
   "id": "7f4a46cc",
   "metadata": {},
   "outputs": [
    {
     "name": "stdout",
     "output_type": "stream",
     "text": [
      "Number of lines in the file which is not starting with 'T' are==> 3\n"
     ]
    }
   ],
   "source": [
    "#Q2.\n",
    "# Write a function in python to count the number of lines \n",
    "# from a text file \"story.txt\" which is not starting with an alphabet \"T\". \n",
    "\n",
    "# Example: If the file \"story.txt\" contains the following lines: A boy is playing there.\n",
    "# There is a playground.\n",
    "# An aeroplane is in the sky.\n",
    "# The sky is pink.\n",
    "# Alphabets and numbers are allowed in the password.\n",
    "# The function should display the output as 3\n",
    "\n",
    "def countLines():\n",
    "    f2=open('Story.txt','r')\n",
    "    b=(f2.readlines())\n",
    "    count=0\n",
    "    for i in b:\n",
    "        if(i[0]!='T'):\n",
    "            count+=1\n",
    "    print(\"Number of lines in the file which is not starting with 'T' are==>\",count)\n",
    "    f2.close()\n",
    "\n",
    "countLines()\n"
   ]
  },
  {
   "cell_type": "code",
   "execution_count": 17,
   "id": "c0d98292",
   "metadata": {},
   "outputs": [
    {
     "name": "stdout",
     "output_type": "stream",
     "text": [
      "Total number of words in the file are:==> 27\n"
     ]
    }
   ],
   "source": [
    "#Q3.\n",
    "# Write a function in Python to count and display the total number of words in a text file.\n",
    "def countWords():\n",
    "    f3=open('Story.txt','r')\n",
    "    c=(f3.readlines())\n",
    "    char=''\n",
    "    for i in c:\n",
    "        for j in i:\n",
    "            if j!=' ':\n",
    "                char=char+j\n",
    "            else:\n",
    "                char=char+' '\n",
    "    print(\"Total number of words in the file are:==>\",len(char.split()))\n",
    "    f3.close\n",
    "    \n",
    "countWords()"
   ]
  },
  {
   "cell_type": "code",
   "execution_count": 16,
   "id": "db84bedb",
   "metadata": {},
   "outputs": [
    {
     "name": "stdout",
     "output_type": "stream",
     "text": [
      "Number of times 'the' occure in the file is:==>  4\n"
     ]
    }
   ],
   "source": [
    "#Q4.\n",
    "# Write a function in Python to read lines from a text file \"notes.txt\". \n",
    "# Your function should find and display the occurrence of the word \"the\".\n",
    "\n",
    "# For example: If the content of the file is:\n",
    "# \"India is the fastest-growing economy. India is looking for more investments around the globe. The whole world is looking at India as a great market. Most of the Indians can foresee the heights that India is capable of reaching.\"\n",
    "\n",
    "# The output should be 5.\n",
    "def occurance():\n",
    "    f4=open('notes.txt','r')\n",
    "    d=f4.readlines()\n",
    "    count=0\n",
    "    char=''\n",
    "    for i in range(len(d)):\n",
    "        #if(d[i]!=' '):\n",
    "        char=char+d[i]\n",
    "    #print(char,type(char))\n",
    "    a=char.split()\n",
    "    #print(a)\n",
    "    for j in a:\n",
    "        if j=='the':\n",
    "            count+=1\n",
    "    print(\"Number of times 'the' occure in the file is:==> \",count)\n",
    "    f4.close()\n",
    "\n",
    "occurance()"
   ]
  },
  {
   "cell_type": "code",
   "execution_count": 40,
   "id": "5ef5a225",
   "metadata": {},
   "outputs": [
    {
     "name": "stdout",
     "output_type": "stream",
     "text": [
      "Words which have less than 4 characters are:\n",
      "\n",
      "A\n",
      "boy\n",
      "is\n",
      "is\n",
      "a\n",
      "An\n",
      "is\n",
      "in\n",
      "the\n",
      "The\n",
      "sky\n",
      "is\n",
      "and\n",
      "are\n",
      "in\n",
      "the\n"
     ]
    }
   ],
   "source": [
    "#Q5.\n",
    "# Write a function display_words() in python to read lines from a text file \"story.txt\", \n",
    "# and display those words, which are less than 4 characters.\n",
    "def display_word():\n",
    "    f5=open(\"Story.txt\",\"r\")\n",
    "    e=f5.readlines()\n",
    "    count=0\n",
    "    char=''\n",
    "    for i in e:\n",
    "        for j in i:\n",
    "            if j!=' ':\n",
    "                char=char+j\n",
    "            else:\n",
    "                char=char+' '\n",
    "    #print(char)\n",
    "    a=char.split()\n",
    "    #print(a,type(a))\n",
    "    print(\"Words which have less than 4 characters are:\\n\")\n",
    "    for k in a:\n",
    "        if len(k)<4:\n",
    "            print(k)\n",
    "    #print(count)\n",
    "    f5.close()\n",
    "\n",
    "display_word()"
   ]
  },
  {
   "cell_type": "code",
   "execution_count": 12,
   "id": "e6020164",
   "metadata": {},
   "outputs": [
    {
     "name": "stdout",
     "output_type": "stream",
     "text": [
      "Total no. of occurance of word 'this' is==> 9\n",
      "Total no. of occurance of word 'these' is==> 7\n"
     ]
    }
   ],
   "source": [
    "#Q6.\n",
    "# Write a function in Python to count the words \"this\" and \"these\" present in a text file \"article.txt\". \n",
    "# [Note that the words \"this\" and \"these\" are complete words] \n",
    "\n",
    "def WordCount():\n",
    "    f6=open('article.txt','r')\n",
    "    f=f6.readlines()\n",
    "    char=''\n",
    "    count1=0\n",
    "    count2=0\n",
    "    for i in f:\n",
    "        for j in i:\n",
    "            if(j!=' '):\n",
    "                char=char+j\n",
    "            else:\n",
    "                char=char+' '\n",
    "    x=char.split()\n",
    "    for i in x:\n",
    "        if(i=='this'):\n",
    "            count1+=1\n",
    "        elif(i=='these'):\n",
    "            count2+=1\n",
    "    print(\"Total no. of occurance of word 'this' is==>\",count1)\n",
    "    print(\"Total no. of occurance of word 'these' is==>\",count2)\n",
    "    f6.close()\n",
    "WordCount()"
   ]
  },
  {
   "cell_type": "code",
   "execution_count": 13,
   "id": "477dc7e4",
   "metadata": {},
   "outputs": [
    {
     "name": "stdout",
     "output_type": "stream",
     "text": [
      "No. of words ending with 'e' is:==> 13\n"
     ]
    }
   ],
   "source": [
    "#Q7.\n",
    "# Write a function in Python to count words in a text file those are ending with alphabet \"e\"\n",
    "\n",
    "def Ecount():\n",
    "    f7=open('article.txt','r')\n",
    "    g=f7.readlines()\n",
    "    char=''\n",
    "    count=0\n",
    "    for i in g:\n",
    "        for j in i:\n",
    "            if(j!=' '):\n",
    "                char=char+j\n",
    "            else:\n",
    "                char=char+' '\n",
    "    y=char.split()\n",
    "    #print(y)\n",
    "    for k in y:\n",
    "        if(k[-1]=='e'):\n",
    "            count+=1\n",
    "    print(\"No. of words ending with 'e' is:==>\",count)\n",
    "    f7.close()\n",
    "Ecount()\n",
    "    "
   ]
  },
  {
   "cell_type": "code",
   "execution_count": 15,
   "id": "c568986f",
   "metadata": {},
   "outputs": [
    {
     "name": "stdout",
     "output_type": "stream",
     "text": [
      "No. of uppercase characters in the file are:==> 22\n"
     ]
    }
   ],
   "source": [
    "#Q8.\n",
    "# Write a function in Python to count uppercase character in a text file.\n",
    "def Uppercount():\n",
    "    f8=open('Story.txt','r')\n",
    "    h=f8.readlines()\n",
    "    char=''\n",
    "    count=0\n",
    "    for i in h:\n",
    "        for j in i:\n",
    "            if(j!=' '):\n",
    "                char=char+j\n",
    "            else:\n",
    "                char=char+' '\n",
    "    #print(char,type(char))\n",
    "    for i in char:\n",
    "        if(i.isupper()==True):\n",
    "            count+=1\n",
    "    print(\"No. of uppercase characters in the file are:==>\",count)\n",
    "    f8.close()\n",
    "\n",
    "Uppercount()"
   ]
  },
  {
   "cell_type": "code",
   "execution_count": 18,
   "id": "ddf3f201",
   "metadata": {},
   "outputs": [
    {
     "name": "stdout",
     "output_type": "stream",
     "text": [
      "T#H#E# #W#O#R#L#D# #I#S# #R#O#U#N#D#\n"
     ]
    }
   ],
   "source": [
    "#Q9.\n",
    "# A text file named \"matter.txt\" contains some text, which needs to be displayed such that \n",
    "# every next character is separated by a symbol \"#\". \n",
    "# Write a function definition for hash_display() in Python that would display \n",
    "# the entire content of the file matter.txt in the desired format.\n",
    "\n",
    "# Example :\n",
    "# If the file matter.txt has the following content stored in it :\n",
    "# THE WORLD IS ROUND\n",
    "\n",
    "# The function hash_display() should display the following content :\n",
    "# T#H#E# #W#O#R#L#D# #I#S# #R#O#U#N#D#\n",
    "\n",
    "def has_display():\n",
    "    f9=open('matter.txt','r')\n",
    "    i=f9.readlines()\n",
    "    char=''\n",
    "    res=''\n",
    "    for j in i:\n",
    "        for k in j:\n",
    "            if(j!=' '):\n",
    "                char=char+k+'#'\n",
    "                res=char\n",
    "            else:\n",
    "                char=char+' '\n",
    "    print(res)  \n",
    "    f9.close()\n",
    "\n",
    "has_display()\n"
   ]
  },
  {
   "cell_type": "code",
   "execution_count": 32,
   "id": "ad816163",
   "metadata": {},
   "outputs": [
    {
     "name": "stdout",
     "output_type": "stream",
     "text": [
      "Before replace operation content of file is:\n",
      "WELL, THJS JS A WORD BY JTSELF. YOU COULD STRETCH THJS TO BE A SENTENCE <class 'str'>\n",
      "\n",
      "After replace operation content of file is:\n",
      "WELL, THIS IS A WORD BY ITSELF. YOU COULD STRETCH THIS TO BE A SENTENCE\n"
     ]
    }
   ],
   "source": [
    "#Q10.\n",
    "# Aditi has used a text editing software to type some text. After saving the article as WORDS.TXT, \n",
    "# she realised that she has wrongly typed alphabet J in place of alphabet I everywhere in the article.\n",
    "# Write a function definition for JTOI() in Python that would display the corrected version of entire content \n",
    "# of the file WORDS.TXT with all the alphabets \"J\" to be displayed as an alphabet \"I\" on screen.\n",
    "\n",
    "# Note: Assuming that WORD.TXT does not contain any J alphabet otherwise.\n",
    "\n",
    "# Example:\n",
    "# If Aditi has stored the following content in the file WORDS.TXT:\n",
    "# WELL, THJS JS A WORD BY JTSELF. YOU COULD STRETCH THJS TO BE A SENTENCE\n",
    "# The function JTOI() should display the following content:\n",
    "# WELL, THIS IS A WORD BY ITSELF. YOU COULD STRETCH THIS TO BE A SENTENCE\n",
    "\n",
    "def JTOI():\n",
    "    f10=open('WORD.txt','r')\n",
    "    j=f10.readlines()\n",
    "    char=''\n",
    "    str1='J'\n",
    "    str2='I'\n",
    "    for i in range(len(j)):\n",
    "        char=char+j[i]\n",
    "        \n",
    "    print(\"Before replace operation content of file is:\")\n",
    "    print(char,type(char))\n",
    "    str3=char.replace(str1,str2)\n",
    "    print(\"\\nAfter replace operation content of file is:\")\n",
    "    print(str3)\n",
    "    f10.close()\n",
    "\n",
    "JTOI()\n",
    "    \n",
    "\n"
   ]
  },
  {
   "cell_type": "code",
   "execution_count": 39,
   "id": "904a4c4d",
   "metadata": {},
   "outputs": [
    {
     "name": "stdout",
     "output_type": "stream",
     "text": [
      "Content of the file is:\n",
      "Updated information\n",
      "As simplified by official websites.\n",
      " <class 'str'>\n",
      "\n",
      "A or a: 4\n",
      "M or m: 2\n"
     ]
    }
   ],
   "source": [
    "#Q11.\n",
    "# Write a function AMCount() in Python, which should read each character of a text file STORY.TXT, \n",
    "# should count and display the occurance of alphabets A and M (including small cases a and m too).\n",
    "# For Example:\n",
    "# If the file content is as follows:\n",
    "# Updated information\n",
    "# As simplified by official websites.\n",
    "# The EUCount() function should display the output as:\n",
    "# A or a:4\n",
    "# M or m :2\n",
    "\n",
    "def AMCount():\n",
    "    f11=open(\"STORY123.txt\",'r')\n",
    "    k=f11.readlines()\n",
    "    count1=0\n",
    "    count2=0\n",
    "    char=''\n",
    "    for i in k:\n",
    "        if (i!=\" \"):\n",
    "            char=char+i\n",
    "        else:\n",
    "            char=char+\" \"\n",
    "    \n",
    "    print(\"Content of the file is:\")\n",
    "    print(char, type(char))\n",
    "    print()\n",
    "    for j in char:\n",
    "        if(j==\"A\" or j==\"a\"):\n",
    "            count1+=1\n",
    "        elif(j=='M' or j=='m'):\n",
    "            count2+=1\n",
    "    print(\"A or a:\",count1)\n",
    "    print(\"M or m:\",count2)\n",
    "    f11.close()\n",
    "\n",
    "AMCount()\n",
    "    "
   ]
  },
  {
   "cell_type": "code",
   "execution_count": 8,
   "id": "ac37ee7c",
   "metadata": {},
   "outputs": [
    {
     "name": "stdout",
     "output_type": "stream",
     "text": [
      "Enter the no of entries you want to make: 4\n",
      "Enter the book NO: 1\n",
      "ENter the book Name: abc\n",
      "Enter the author name: ABC\n",
      "Enter the price of the book: 200\n",
      "Enter the book NO: 2\n",
      "ENter the book Name: efg\n",
      "Enter the author name: ABC\n",
      "Enter the price of the book: 150\n",
      "Enter the book NO: 3\n",
      "ENter the book Name: hij\n",
      "Enter the author name: XYZ\n",
      "Enter the price of the book: 175\n",
      "Enter the book NO: 4\n",
      "ENter the book Name: klm\n",
      "Enter the author name: PQR\n",
      "Enter the price of the book: 220\n"
     ]
    }
   ],
   "source": [
    "#Q12.\n",
    "# A binary file \"Book.dat\" has structure [BookNo, Book_Name, Author, Price].\n",
    "# i. Write a user defined function createFile() to input data for a record and add to Book.dat.\n",
    "# ii. Write a function countRec(Author) in Python which accepts the Author name as parameter \n",
    "# and count and return number of books by the given Author are stored in the binary file \"Book.dat\"\n",
    "\n",
    "import pickle\n",
    "def createFile():\n",
    "    no_of_entries = int(input('Enter the no of entries you want to make: '))\n",
    "    with open('Book.dat', 'wb') as f1:\n",
    "        for i in range(no_of_entries):\n",
    "            book_no = input('Enter the book NO: ')\n",
    "            book_name = input('ENter the book Name: ')\n",
    "            author = input('Enter the author name: ')\n",
    "            price = input('Enter the price of the book: ')\n",
    "            pickle.dump([book_no, book_name, author, price], f1)\n",
    "    f1.close()\n",
    "createFile()\n",
    "    "
   ]
  },
  {
   "cell_type": "code",
   "execution_count": 46,
   "id": "1f14047d",
   "metadata": {},
   "outputs": [
    {
     "name": "stdout",
     "output_type": "stream",
     "text": [
      "[['1', 'abc', 'ABC', '200'], ['2', 'efg', 'ABC', '150'], ['3', 'hij', 'XYZ', '175'], ['4', 'klm', 'PQR', '220']]\n",
      "\n",
      "No. of books by Auther in the file are:==> 2\n"
     ]
    }
   ],
   "source": [
    "import pickle\n",
    "def countRec(Author):\n",
    "    f4=open('Book.dat','rb')\n",
    "    a=[]\n",
    "    count=0\n",
    "    try:\n",
    "        while True:\n",
    "            a=a + [pickle.load(f4)]\n",
    "    except:\n",
    "        pass\n",
    "    print(a)\n",
    "    for i in a:\n",
    "        if(i[2]==Author):\n",
    "            count=count+1\n",
    "    #print(\"\\nNo. of books by Auther in the file are:\")\n",
    "    return count\n",
    "    f4.close()\n",
    "\n",
    "g=countRec(\"ABC\")\n",
    "print(\"\\nNo. of books by Auther in the file are:==>\",g)"
   ]
  },
  {
   "cell_type": "code",
   "execution_count": 48,
   "id": "57193078",
   "metadata": {},
   "outputs": [
    {
     "name": "stdout",
     "output_type": "stream",
     "text": [
      "Enter the number of records you want to entre:==>4\n",
      "Enter the admission number:==>111\n",
      "Enter the name:==>rajesh\n",
      "Enter the percentage:==>84\n",
      "Enter the admission number:==>112\n",
      "Enter the name:==>raju\n",
      "Enter the percentage:==>74\n",
      "Enter the admission number:==>113\n",
      "Enter the name:==>ram\n",
      "Enter the percentage:==>76\n",
      "Enter the admission number:==>114\n",
      "Enter the name:==>ramesh\n",
      "Enter the percentage:==>73\n"
     ]
    }
   ],
   "source": [
    "#Q13.\n",
    "\n",
    "# A binary file \"STUDENT.DAT\" has structure (admission_number, Name, Percentage). \n",
    "# Write a function count_rec() in Python that would read contents of the file \"STUDENT.DAT\" \n",
    "# and display the details of those students whose percentage is above 75. \n",
    "# Also display number of students scoring above 75%\n",
    "\n",
    "import pickle\n",
    "def count_rec():\n",
    "    record=int(input(\"Enter the number of records you want to entre:==>\"))\n",
    "    f5=open(\"STUDENT.dat\",\"wb\")\n",
    "    for i in range(record):\n",
    "        admission_number=input(\"Enter the admission number:==>\")\n",
    "        Name=input(\"Enter the name:==>\")\n",
    "        percentage=int(input(\"Enter the percentage:==>\"))\n",
    "        pickle.dump((admission_number,Name,percentage),f5)\n",
    "    f5.close()\n",
    "\n",
    "count_rec()\n",
    "    "
   ]
  },
  {
   "cell_type": "code",
   "execution_count": 49,
   "id": "224a37c7",
   "metadata": {},
   "outputs": [
    {
     "name": "stdout",
     "output_type": "stream",
     "text": [
      "Records of students:\n",
      "\n",
      "[('111', 'rajesh', 84), ('112', 'raju', 74), ('113', 'ram', 76), ('114', 'ramesh', 73)]\n",
      "\n",
      "Record details of Student having percentage greater than 75:\n",
      " [('111', 'rajesh', 84), ('113', 'ram', 76)]\n",
      "\n",
      "No. of records having percentage greater than 75:==> 2\n"
     ]
    }
   ],
   "source": [
    "import pickle\n",
    "def COUNT_REC():\n",
    "    f6=open(\"STUDENT.dat\",\"rb\")\n",
    "    a=[]\n",
    "    count=0\n",
    "    b=[]\n",
    "    try:\n",
    "        while True:\n",
    "            a=a + [pickle.load(f6)]\n",
    "    except:\n",
    "        pass\n",
    "    print(\"Records of students:\\n\")\n",
    "    print(a)\n",
    "    for i in a:\n",
    "        if(i[2]>75):\n",
    "            b=b+[i]\n",
    "            count+=1\n",
    "    print(\"\\nRecord details of Student having percentage greater than 75:\\n\",b)\n",
    "    print(\"\\nNo. of records having percentage greater than 75:==>\",count)\n",
    "    f6.close()\n",
    "COUNT_REC()"
   ]
  },
  {
   "cell_type": "code",
   "execution_count": 30,
   "id": "f6c4ba14",
   "metadata": {},
   "outputs": [
    {
     "name": "stdout",
     "output_type": "stream",
     "text": [
      "Enter employee code: 5\n",
      "Enter employee Name: Jotsna\n",
      "Enter salary: 32000\n",
      "Add more record (y/n)? y\n",
      "Enter employee code: 6\n",
      "Enter employee Name: Vira\n",
      "Enter salary: 26000\n",
      "Add more record (y/n)? n\n",
      "Employee details having salary more than 30000\n",
      "{'empcode': 1, 'name': 'sam', 'salary': 35000}\n",
      "{'empcode': 3, 'name': 'prem', 'salary': 35000}\n",
      "{'empcode': 5, 'name': 'Jotsna', 'salary': 32000}\n"
     ]
    }
   ],
   "source": [
    "#Q14.\n",
    "# Given a binary file employee.dat, created using dictionary object having keys: (empcode, name, and salary)\n",
    "\n",
    "# Write a python function that add one more record at the end of file.\n",
    "# Write a python function that display all employee records whose salary is more that 30000\n",
    "import pickle\n",
    "\n",
    "def add_record():\n",
    "    file = open(\"employee.dat\",\"ab\")\n",
    "    emp = {}\n",
    "    emp['empcode'] = int(input(\"Enter employee code: \"))\n",
    "    emp['name'] = input(\"Enter employee Name: \")\n",
    "    emp['salary'] = int(input(\"Enter salary: \"))\n",
    "    pickle.dump(emp, file)\n",
    "    file.close()\n",
    "    \n",
    "def search():\n",
    "    file = open(\"employee.dat\",\"rb\")\n",
    "    try:\n",
    "        while True:\n",
    "            emp = pickle.load(file)\n",
    "            if emp['salary']>30000:\n",
    "                print(emp)\n",
    "    except:\n",
    "        pass\n",
    "    file.close()\n",
    "\n",
    "\n",
    "def testProgram():\n",
    "    while True:\n",
    "        add_record()\n",
    "        choice = input(\"Add more record (y/n)? \")\n",
    "        if choice in 'Nn':\n",
    "            break\n",
    "    print('Employee details having salary more than 30000')\n",
    "    search()\n",
    "\n",
    "testProgram()\n"
   ]
  },
  {
   "cell_type": "code",
   "execution_count": 1,
   "id": "3f3148cd",
   "metadata": {},
   "outputs": [
    {
     "name": "stdout",
     "output_type": "stream",
     "text": [
      "Enter the no of entries you want to make: 4\n",
      "Enter the roll no. of student: 1003\n",
      "Enter the  name of student: ram\n",
      "Enter the class of student: X\n",
      "Enter the fees of student: 5000\n",
      "Enter the roll no. of student: 1004\n",
      "Enter the  name of student: rohan\n",
      "Enter the class of student: IX\n",
      "Enter the fees of student: 4500\n",
      "Enter the roll no. of student: 1005\n",
      "Enter the  name of student: rohit\n",
      "Enter the class of student: X\n",
      "Enter the fees of student: 5000\n",
      "Enter the roll no. of student: 1006\n",
      "Enter the  name of student: ritvik\n",
      "Enter the class of student: VIII\n",
      "Enter the fees of student: 4000\n"
     ]
    }
   ],
   "source": [
    "#Q15.\n",
    "\n",
    "# Write a function to search and display details of student whose rollno is '1005' \n",
    "# from the binary file student.dat having structure [rollno, name, class and fees].\n",
    "\n",
    "import pickle\n",
    "def createFile():\n",
    "    no_of_entries = int(input('Enter the no of entries you want to make: '))\n",
    "    with open('student_1.dat', 'wb') as f1:\n",
    "        for i in range(no_of_entries):\n",
    "            rollno = int(input('Enter the roll no. of student: '))\n",
    "            name = input('Enter the  name of student: ')\n",
    "            Class = input('Enter the class of student: ')\n",
    "            fees = input('Enter the fees of student: ')\n",
    "            pickle.dump([rollno, name, Class, fees], f1)\n",
    "    f1.close()\n",
    "createFile()"
   ]
  },
  {
   "cell_type": "code",
   "execution_count": 3,
   "id": "41283a2f",
   "metadata": {},
   "outputs": [
    {
     "name": "stdout",
     "output_type": "stream",
     "text": [
      "Student records are as follows:\n",
      "[[1003, 'ram', 'X', '5000'], [1004, 'rohan', 'IX', '4500'], [1005, 'rohit', 'X', '5000'], [1006, 'ritvik', 'VIII', '4000']]\n",
      "\n",
      "Student Record with roll no. '1005' is:\n",
      "[[1005, 'rohit', 'X', '5000']]\n"
     ]
    }
   ],
   "source": [
    "import pickle\n",
    "def SearchDis():\n",
    "    f2=open('student_1.dat','rb')\n",
    "    a=[]\n",
    "    b=[]\n",
    "    try:\n",
    "        while True:\n",
    "            a=a+[pickle.load(f2)]\n",
    "    except:\n",
    "        pass\n",
    "    print(\"Student records are as follows:\")\n",
    "    print(a)\n",
    "    for i in a:\n",
    "        if(i[0]==1005):\n",
    "            b=b+[i]\n",
    "    print(\"\\nStudent Record with roll no. '1005' is:\")\n",
    "    print(b)\n",
    "    f2.close()\n",
    "\n",
    "SearchDis()"
   ]
  },
  {
   "cell_type": "code",
   "execution_count": 6,
   "id": "4ac5c277",
   "metadata": {},
   "outputs": [
    {
     "name": "stdout",
     "output_type": "stream",
     "text": [
      "Enter the no of entries you want to make: 4\n",
      "Enter the roll no. of student: 101\n",
      "Enter the  name of student: abc\n",
      "Enter the class of student: v\n",
      "Enter the fees of student: 1000\n",
      "Enter the roll no. of student: 102\n",
      "Enter the  name of student: def\n",
      "Enter the class of student: vi\n",
      "Enter the fees of student: 1500\n",
      "Enter the roll no. of student: 103\n",
      "Enter the  name of student: ghi\n",
      "Enter the class of student: viii\n",
      "Enter the fees of student: 2000\n",
      "Enter the roll no. of student: 104\n",
      "Enter the  name of student: jkl\n",
      "Enter the class of student: ix\n",
      "Enter the fees of student: 2500\n"
     ]
    }
   ],
   "source": [
    "#Q16.\n",
    "# A binary file school.dat has structure(rollno, name, class, fees)\n",
    "\n",
    "# Write a definition for function total_fees( ) that reads each object of file and calculate \n",
    "# the total fees of students and display the same.\n",
    "import pickle\n",
    "def createFile():\n",
    "    no_of_entries = int(input('Enter the no of entries you want to make: '))\n",
    "    with open('school.dat', 'wb') as f1:\n",
    "        for i in range(no_of_entries):\n",
    "            rollno = int(input('Enter the roll no. of student: '))\n",
    "            name = input('Enter the  name of student: ')\n",
    "            Class = input('Enter the class of student: ')\n",
    "            fees = int(input('Enter the fees of student: '))\n",
    "            pickle.dump((rollno, name, Class, fees), f1)\n",
    "    f1.close()\n",
    "createFile()"
   ]
  },
  {
   "cell_type": "code",
   "execution_count": 15,
   "id": "cdb02301",
   "metadata": {},
   "outputs": [
    {
     "name": "stdout",
     "output_type": "stream",
     "text": [
      "School records are as follows:\n",
      "[(101, 'abc', 'v', 1000), (102, 'def', 'vi', 1500), (103, 'ghi', 'viii', 2000), (104, 'jkl', 'ix', 2500)]\n",
      "\n",
      "Total Fees of the students in the School:  7000\n"
     ]
    }
   ],
   "source": [
    "import pickle\n",
    "def total_fees():\n",
    "    f1=open('school.dat','rb')\n",
    "    a=[]\n",
    "    count=0\n",
    "    try:\n",
    "        while True:\n",
    "            a=a+[pickle.load(f1)]\n",
    "    except:\n",
    "        pass\n",
    "    print(\"School records are as follows:\")\n",
    "    print(a)\n",
    "    for i in a:\n",
    "        count=count+i[3]\n",
    "    print(\"\\nTotal Fees of the students in the School: \",count)\n",
    "    f1.close()\n",
    "total_fees()"
   ]
  },
  {
   "cell_type": "code",
   "execution_count": 17,
   "id": "03ff06fa",
   "metadata": {},
   "outputs": [
    {
     "name": "stdout",
     "output_type": "stream",
     "text": [
      "Enter the no of entries you want to make: 7\n",
      "Enter the code of Player: 1\n",
      "Enter the  name of Player: ABC\n",
      "Enter the Country of Player: India\n",
      "Enter the total_runs of Player: 8450\n",
      "Enter the code of Player: 2\n",
      "Enter the  name of Player: ABD\n",
      "Enter the Country of Player: South Africa\n",
      "Enter the total_runs of Player: 8953\n",
      "Enter the code of Player: 3\n",
      "Enter the  name of Player: ADG\n",
      "Enter the Country of Player: Australia\n",
      "Enter the total_runs of Player: 7543\n",
      "Enter the code of Player: 4\n",
      "Enter the  name of Player: SRT\n",
      "Enter the Country of Player: India\n",
      "Enter the total_runs of Player: 18000\n",
      "Enter the code of Player: 5\n",
      "Enter the  name of Player: CHG\n",
      "Enter the Country of Player: West Indies\n",
      "Enter the total_runs of Player: 6723\n",
      "Enter the code of Player: 6\n",
      "Enter the  name of Player: GS\n",
      "Enter the Country of Player: South Africa\n",
      "Enter the total_runs of Player: 9460\n",
      "Enter the code of Player: 7\n",
      "Enter the  name of Player: VS\n",
      "Enter the Country of Player: India\n",
      "Enter the total_runs of Player: 8466\n"
     ]
    }
   ],
   "source": [
    "#Q17.\n",
    "# A binary file players.dat, containing records of following list format: [code, name, country and total runs]\n",
    "\n",
    "# 1. Write a python function that display all records where player name starts from 'A'\n",
    "# 2. Write a python function that accept country as an argument and count and display \n",
    "#     the number of players of that country.\n",
    "# 3. Write a python function that add one record at the end of file.\n",
    "\n",
    "import pickle\n",
    "\n",
    "def createFile():\n",
    "    no_of_entries = int(input('Enter the no of entries you want to make: '))\n",
    "    with open('players.dat', 'wb') as f1:\n",
    "        for i in range(no_of_entries):\n",
    "            code = int(input('Enter the code of Player: '))\n",
    "            name = input('Enter the  name of Player: ')\n",
    "            Country = input('Enter the Country of Player: ')\n",
    "            total_runs =int(input('Enter the total_runs of Player: '))\n",
    "            pickle.dump((code, name, Country, total_runs), f1)\n",
    "    f1.close()\n",
    "createFile()"
   ]
  },
  {
   "cell_type": "code",
   "execution_count": 27,
   "id": "38c675cf",
   "metadata": {},
   "outputs": [
    {
     "name": "stdout",
     "output_type": "stream",
     "text": [
      "Players records are as follows:\n",
      "[(1, 'ABC', 'India', 8450), (2, 'ABD', 'South Africa', 8953), (3, 'ADG', 'Australia', 7543), (4, 'SRT', 'India', 18000), (5, 'CHG', 'West Indies', 6723), (6, 'GS', 'South Africa', 9460), (7, 'VS', 'India', 8466), (8, 'EFG', 'England', 5670)]\n",
      "\n",
      "Players Record with name starting with 'A' is:\n",
      "[(1, 'ABC', 'India', 8450), (2, 'ABD', 'South Africa', 8953), (3, 'ADG', 'Australia', 7543)]\n"
     ]
    }
   ],
   "source": [
    "import pickle\n",
    "def DisplayRec():\n",
    "    f2=open('players.dat','rb')\n",
    "    a=[]\n",
    "    b=[]\n",
    "    try:\n",
    "        while True:\n",
    "            a=a+[pickle.load(f2)]\n",
    "    except:\n",
    "        pass\n",
    "    print(\"Players records are as follows:\")\n",
    "    print(a)\n",
    "    for i in a:\n",
    "        if(i[1][0]=='A'):\n",
    "            b=b+[i]\n",
    "    print(\"\\nPlayers Record with name starting with 'A' is:\")\n",
    "    print(b)\n",
    "    f2.close()\n",
    "\n",
    "DisplayRec()"
   ]
  },
  {
   "cell_type": "code",
   "execution_count": 28,
   "id": "888c13e6",
   "metadata": {},
   "outputs": [
    {
     "name": "stdout",
     "output_type": "stream",
     "text": [
      "[(1, 'ABC', 'India', 8450), (2, 'ABD', 'South Africa', 8953), (3, 'ADG', 'Australia', 7543), (4, 'SRT', 'India', 18000), (5, 'CHG', 'West Indies', 6723), (6, 'GS', 'South Africa', 9460), (7, 'VS', 'India', 8466), (8, 'EFG', 'England', 5670)]\n",
      "No of Playes for the given country is: 2\n"
     ]
    }
   ],
   "source": [
    "import pickle\n",
    "def COUNTRec(country):\n",
    "    file=open('players.dat','rb')\n",
    "    a=[]\n",
    "    count=0\n",
    "    try:\n",
    "        while True:\n",
    "            a=a+[pickle.load(file)]\n",
    "    except:\n",
    "        pass\n",
    "    print(a)\n",
    "    for i in a:\n",
    "        if i[2]==country:\n",
    "            count=count+1\n",
    "            \n",
    "    print(\"No of Playes for the given country is:\",count)\n",
    "    file.close()\n",
    "COUNTRec('South Africa')"
   ]
  },
  {
   "cell_type": "code",
   "execution_count": 26,
   "id": "ed38c570",
   "metadata": {},
   "outputs": [
    {
     "name": "stdout",
     "output_type": "stream",
     "text": [
      "Enter the code of Player: 8\n",
      "Enter the  name of Player: EFG\n",
      "Enter the Country of Player: England\n",
      "Enter the total_runs of Player: 5670\n"
     ]
    }
   ],
   "source": [
    "import pickle\n",
    "def AppendRecord():\n",
    "    f2=open('players.dat','ab')\n",
    "    code = int(input('Enter the code of Player: '))\n",
    "    name = input('Enter the  name of Player: ')\n",
    "    Country = input('Enter the Country of Player: ')\n",
    "    total_runs =int(input('Enter the total_runs of Player: '))\n",
    "    pickle.dump((code, name, Country, total_runs),f2)\n",
    "    f2.close()\n",
    "AppendRecord()"
   ]
  },
  {
   "cell_type": "code",
   "execution_count": 32,
   "id": "5d68150a",
   "metadata": {},
   "outputs": [
    {
     "name": "stdout",
     "output_type": "stream",
     "text": [
      "Enter the no of entries you want to make: 4\n",
      "Enter the  name of the game: Cricket\n",
      "Enter the Participants of the game: 11\n",
      "Enter the  name of the game: Hockey\n",
      "Enter the Participants of the game: 11\n",
      "Enter the  name of the game: Basket Ball\n",
      "Enter the Participants of the game: 5\n",
      "Enter the  name of the game: Football\n",
      "Enter the Participants of the game: 11\n"
     ]
    }
   ],
   "source": [
    "#Q18.\n",
    "# Given a binary file game.dat, containing records of following list format: [game_name, participants]\n",
    "\n",
    "# Write a function in Python that would read contents from the file game.dat and \n",
    "# creates a file named basket.dat copying only those records from game.dat where the game name is \"Basket Ball\"\n",
    "\n",
    "import pickle\n",
    "\n",
    "def createFile():\n",
    "    no_of_entries = int(input('Enter the no of entries you want to make: '))\n",
    "    with open('game.dat', 'wb') as f1:\n",
    "        for i in range(no_of_entries):\n",
    "            game_name = input('Enter the  name of the game: ')\n",
    "            participants =int(input('Enter the Participants of the game: '))\n",
    "            pickle.dump([game_name,participants], f1)\n",
    "    f1.close()\n",
    "createFile()"
   ]
  },
  {
   "cell_type": "code",
   "execution_count": 35,
   "id": "769bf0ee",
   "metadata": {},
   "outputs": [
    {
     "name": "stdout",
     "output_type": "stream",
     "text": [
      "Printing the content of 'basket.dat':\n",
      "['Basket Ball', 5]\n"
     ]
    }
   ],
   "source": [
    "import pickle\n",
    "def copyRecord():\n",
    "    f1 = open(\"game.dat\",\"rb\")\n",
    "    f2 = open(\"basket.dat\",\"wb\")\n",
    "\n",
    "    try:\n",
    "        while True:\n",
    "            record = pickle.load(f1)\n",
    "            if record[0] == \"Basket Ball\":\n",
    "                pickle.dump(record, f2)\n",
    "    except:\n",
    "        pass\n",
    "    f1.close()\n",
    "    f2.close()\n",
    "copyRecord()\n",
    "\n",
    "print(\"Printing the content of 'basket.dat':\")\n",
    "f3=open(\"basket.dat\",\"rb\")\n",
    "try:\n",
    "    while True:\n",
    "        print(pickle.load(f3))\n",
    "except:\n",
    "    pass\n",
    "f3.close()\n",
    "    "
   ]
  },
  {
   "cell_type": "code",
   "execution_count": null,
   "id": "67406f3e",
   "metadata": {},
   "outputs": [],
   "source": []
  }
 ],
 "metadata": {
  "kernelspec": {
   "display_name": "Python 3 (ipykernel)",
   "language": "python",
   "name": "python3"
  },
  "language_info": {
   "codemirror_mode": {
    "name": "ipython",
    "version": 3
   },
   "file_extension": ".py",
   "mimetype": "text/x-python",
   "name": "python",
   "nbconvert_exporter": "python",
   "pygments_lexer": "ipython3",
   "version": "3.9.7"
  }
 },
 "nbformat": 4,
 "nbformat_minor": 5
}
