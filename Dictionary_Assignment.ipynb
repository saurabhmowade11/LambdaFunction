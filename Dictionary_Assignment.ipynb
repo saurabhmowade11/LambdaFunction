{
 "cells": [
  {
   "cell_type": "code",
   "execution_count": 3,
   "id": "20d795f8",
   "metadata": {},
   "outputs": [
    {
     "name": "stdout",
     "output_type": "stream",
     "text": [
      "{'email': 'tom_latham019@gmail.com', 'Phone': 1987654321, 'City': 'California'}\n",
      "{'email': 'kathy_abram897@gmail.com', 'Phone': 1887654321, 'City': 'New York'}\n"
     ]
    }
   ],
   "source": [
    "#Q1.\n",
    "# Initialize a dictionary \"emp_info\" with below details\n",
    "# In - emp_info['Tom']\n",
    "# Out - {'email':'tom_latham019@gmail.com', 'Phone': +1987654321, 'City': 'California'}\n",
    "\n",
    "# In - emp_info['Kathy']\n",
    "# Out - {'email':'kathy_abram897@gmail.com', 'Phone': +1887654321, 'City': 'New York'}\n",
    "\n",
    "\n",
    "emp_info=dict([['Tom',{'email':'tom_latham019@gmail.com','Phone':+1987654321, 'City': 'California'}],\n",
    "               ['Kathy',{'email':'kathy_abram897@gmail.com', 'Phone': +1887654321, 'City': 'New York'}]])\n",
    "\n",
    "\n",
    "\n",
    "print(emp_info['Tom'])\n",
    "print(emp_info['Kathy'])"
   ]
  },
  {
   "cell_type": "code",
   "execution_count": 9,
   "id": "e662a8ee",
   "metadata": {},
   "outputs": [
    {
     "name": "stdout",
     "output_type": "stream",
     "text": [
      "{'emp1': {'e_name': 'John', 'e_id': 'SG101', 'e_sal': '$10,000'}, 'emp2': {'e_name': 'Smith', 'e_id': 'SG102', 'e_sal': '$9,000'}, 'emp3': {'e_name': 'Peter', 'e_id': 'SG103', 'e_sal': '$9,500'}}\n"
     ]
    }
   ],
   "source": [
    "#Q2.\n",
    "# Create a dictionary out of below inputs\n",
    "# lst1 = ['emp1', 'emp2', 'emp3']\n",
    "# emp_key = ['e_name', 'e_id', 'e_sal']\n",
    "# emp1_val = ['John', 'SG101', '$10,000']\n",
    "# emp2_val = ['Smith', 'SG102', '$9,000']\n",
    "# emp3_val = ['Peter', 'SG103', '$9,500']\n",
    "\n",
    "# Expected Output:- {'emp1':{'e_name':'John', 'e_id':'SG101', 'e_sal':$10,000}, \n",
    "#                    'emp2':{'e_name':'Smith', 'e_id':'SG102', 'e_sal':$9,000}, \n",
    "#                    'emp3':{'e_name':'Peter', 'e_id':'SG103', 'e_sal':$9,500}}\n",
    "\n",
    "lst1 = ['emp1', 'emp2', 'emp3']\n",
    "emp_key = ['e_name', 'e_id', 'e_sal']\n",
    "emp1_val = ['John', 'SG101', '$10,000']\n",
    "emp2_val = ['Smith', 'SG102', '$9,000']\n",
    "emp3_val = ['Peter', 'SG103', '$9,500']\n",
    "\n",
    "my_dictionary=dict([[lst1[0],{emp_key[0]:emp1_val[0],emp_key[1]:emp1_val[1],emp_key[2]:emp1_val[2]}],\n",
    "                     [lst1[1],{emp_key[0]:emp2_val[0],emp_key[1]:emp2_val[1],emp_key[2]:emp2_val[2]}],\n",
    "                     [lst1[2],{emp_key[0]:emp3_val[0],emp_key[1]:emp3_val[1],emp_key[2]:emp3_val[2]}]])\n",
    "\n",
    "print(my_dictionary)"
   ]
  },
  {
   "cell_type": "code",
   "execution_count": 10,
   "id": "4b1ae602",
   "metadata": {},
   "outputs": [
    {
     "name": "stdout",
     "output_type": "stream",
     "text": [
      "80\n"
     ]
    }
   ],
   "source": [
    "#Q3.\n",
    "# Acess the value of key 'history'\n",
    "\n",
    "sampleDict = { \n",
    "   \"class\":{ \n",
    "      \"student\":{ \n",
    "         \"name\":\"Mike\",\n",
    "         \"marks\":{ \n",
    "            \"physics\":70,\n",
    "            \"history\":80\n",
    "         }\n",
    "      }\n",
    "   }\n",
    "}\n",
    "\n",
    "print(sampleDict[\"class\"][\"student\"][\"marks\"][\"history\"])\n",
    "\n",
    "\n",
    "\n",
    "\n"
   ]
  },
  {
   "cell_type": "code",
   "execution_count": 11,
   "id": "f6aef09c",
   "metadata": {},
   "outputs": [
    {
     "name": "stdout",
     "output_type": "stream",
     "text": [
      "{'Kelly': {'designation': 'Application Developer', 'salary': 8000}, 'Emma': {'designation': 'Application Developer', 'salary': 8000}, 'John': {'designation': 'Application Developer', 'salary': 8000}}\n"
     ]
    }
   ],
   "source": [
    "#Q4.\n",
    "# Initialize dictionary with default values. Inputs are:-\n",
    "# employees = ['Kelly', 'Emma', 'John']\n",
    "# defaults = {\"designation\": 'Application Developer', \"salary\": 8000}\n",
    "\n",
    "#Expected output:- {'Kelly': {'designation': 'Application Developer', 'salary': 8000}, \n",
    "#                   'Emma': {'designation': 'Application Developer', 'salary': 8000}, \n",
    "#                   'John': {'designation': 'Application Developer', 'salary': 8000}}\n",
    "\n",
    "employees = ['Kelly', 'Emma', 'John']\n",
    "defaults = {\"designation\": 'Application Developer', \"salary\": 8000}\n",
    "\n",
    "SampleDict=dict([[employees[0],defaults],[employees[1],defaults],[employees[2],defaults]])\n",
    "\n",
    "print(SampleDict)"
   ]
  },
  {
   "cell_type": "code",
   "execution_count": 14,
   "id": "4456ab79",
   "metadata": {},
   "outputs": [
    {
     "name": "stdout",
     "output_type": "stream",
     "text": [
      "{'A': 'U', 'T': 'A', 'C': 'G', 'G': 'C'}\n"
     ]
    }
   ],
   "source": [
    "#Q5.\n",
    "# In gene expression, mRNA is transcribed from a DNA template. \n",
    "# The 4 nucleotide bases of A, T, C, G corresponds to the U, A, G, C bases of the mRNA. \n",
    "# Write a function that returns the mRNA transcript given the sequence of a DNA strand.\n",
    "\n",
    "# Use a dictionary to provide the mapping of DNA to RNA bases.\n",
    "\n",
    "def Mapping():\n",
    "    DNA=['A','T','C','G']\n",
    "    RNA=['U','A','G','C']\n",
    "    mRNA=dict([[DNA[0],RNA[0]],[DNA[1],RNA[1]],[DNA[2],RNA[2]],[DNA[3],RNA[3]]])\n",
    "    return mRNA\n",
    "\n",
    "print(Mapping())"
   ]
  },
  {
   "cell_type": "code",
   "execution_count": 21,
   "id": "12346806",
   "metadata": {},
   "outputs": [
    {
     "name": "stdout",
     "output_type": "stream",
     "text": [
      "gole.cm\n"
     ]
    },
    {
     "data": {
      "text/plain": [
       "{'g': 2, 'o': 3, 'l': 1, 'e': 1, '.': 1, 'c': 1, 'm': 1}"
      ]
     },
     "execution_count": 21,
     "metadata": {},
     "output_type": "execute_result"
    }
   ],
   "source": [
    "#Q6.\n",
    "# Write a function which takes a word as input and returns a dictionary with letters as key and no of time letters are repeated as value.\n",
    "# In - count_letter('google.com')\n",
    "# Out - {'g': 2, 'o': 3, 'l': 1, 'e': 1, '.': 1, 'c': 1, 'm': 1}\n",
    "\n",
    "def Count_Letter(x):\n",
    "    y=''\n",
    "    sampleDict=[]\n",
    "    for i in x:\n",
    "        if i not in y:\n",
    "            y=y+i\n",
    "    print(y)\n",
    "    for j in y:\n",
    "        sampleDict=sampleDict+[(j,x.count(j))]\n",
    "        \n",
    "    a=dict(sampleDict)\n",
    "    return a\n",
    "\n",
    "Count_Letter('google.com')\n"
   ]
  },
  {
   "cell_type": "code",
   "execution_count": 27,
   "id": "a52d003c",
   "metadata": {},
   "outputs": [
    {
     "name": "stdout",
     "output_type": "stream",
     "text": [
      "{'A': 4, 'C': 8, 'T': 5, 'G': 3}\n",
      "\n",
      "{'A': 1, 'C': 0, 'T': 1, 'G': 1}\n",
      "\n"
     ]
    }
   ],
   "source": [
    "#Q7.\n",
    "# A DNA strand consisting of the 4 nucleotide bases is usually represented with a string of letters: A,T, C, G. \n",
    "# Write a function that computes the base composition of a given DNA sequence.\n",
    "\n",
    "# In - baseComposition(\"CTATCGGCACCCTTTCAGCA\")\n",
    "# Out - {'A': 4, 'C': 8, 'T': 5,  'G': 3 }\n",
    "    \n",
    "# In - baseComposition(\"AGT\")\n",
    "# Out - {'A': 1, 'C': 0, 'T': 1,  'G': 1 }\n",
    "\n",
    "def baseComposition(x):\n",
    "    SampleDict=[] \n",
    "    DNA=['A','C','T','G']\n",
    "\n",
    "    for i in DNA:\n",
    "        SampleDict=SampleDict+[(i,x.count(i))]\n",
    "        \n",
    "    a=dict(SampleDict)\n",
    "    \n",
    "    print(a)\n",
    "    print()\n",
    "    \n",
    "\n",
    "baseComposition(\"CTATCGGCACCCTTTCAGCA\")\n",
    "baseComposition(\"ATG\")\n"
   ]
  },
  {
   "cell_type": "code",
   "execution_count": 41,
   "id": "7d106255",
   "metadata": {},
   "outputs": [],
   "source": [
    "#Q8.\n",
    "# [MCQ] Suppose \"d\" is an empty dictionary, which statement does not assign \"d\" with {\"Name\":\"Tom\"}? \n",
    "# 1. d = {\"Name\": \"Tom\" }\n",
    "# 2. d[\"Name\"] = \"Tom\"\n",
    "# 3. d.update({\"Name\": \"Tom\" })\n",
    "# 4. d.setdefault(\"Name\", \"Tom\")\n",
    "# 5. None of the above=====>All above option assign \"d\" with {\"Name\":\"Tom\"}"
   ]
  },
  {
   "cell_type": "code",
   "execution_count": 33,
   "id": "7529f21c",
   "metadata": {},
   "outputs": [],
   "source": [
    "#Q9.\n",
    "# [MCQ] \n",
    "#d = {\"a\":1, \"b\":2}. Which of the statements returns [1,2]? \n",
    "# 1. d.keys()\n",
    "# 2. d.values()===>will return [1,2]\n",
    "# 3. d.items()\n",
    "# 4. d.popitem()\n",
    "# 5. None of the above."
   ]
  },
  {
   "cell_type": "code",
   "execution_count": null,
   "id": "6c9c2b91",
   "metadata": {},
   "outputs": [],
   "source": [
    "#Q10.\n",
    "# [MCQ] Which of the following declarations is not valid for 'dict' type?\n",
    "# 1. d = {\"Name\": \"Tom\" }\n",
    "# 2. d = { (1,3,4): 4.5 }\n",
    "# 3. d = { [\"First\", \"Last\"]: (1,3) }===> is not valid for 'dict' type\n",
    "# 4. d = { 1: 0.4 }\n",
    "# 5. None of the above"
   ]
  },
  {
   "cell_type": "code",
   "execution_count": 5,
   "id": "24b4c204",
   "metadata": {},
   "outputs": [
    {
     "name": "stdout",
     "output_type": "stream",
     "text": [
      "['a']\n",
      "['b', 'c']\n",
      "[]\n"
     ]
    }
   ],
   "source": [
    "#Q11.\n",
    "# Write a function reverseLookup(dictionary, value) that takes in a dictionary \n",
    "# and a value as arguments and returns a sorted list of all keys that contains the value. \n",
    "# The function will return an empty list if no match is found.\n",
    "\n",
    "# In - reverseLookup({'a':1, 'b':2, 'c':2}, 1)\n",
    "# Out - ['a']\n",
    "# In - reverseLookup({'a':1, 'b':2, 'c':2}, 2)\n",
    "# Out - ['b', 'c']\n",
    "# In - reverseLookup({'a':1, 'b':2, 'c':2}, 3)\n",
    "# Out - []\n",
    "def reverseLookup(dictionary, value):\n",
    "    sample=[]\n",
    "    for i in dictionary:\n",
    "        if dictionary[i]==value:\n",
    "            sample=sample+[i]\n",
    "    print(sample)\n",
    "\n",
    "reverseLookup({'a':1, 'b':2, 'c':2}, 1)\n",
    "reverseLookup({'a':1, 'b':2, 'c':2}, 2)\n",
    "reverseLookup({'a':1, 'b':2, 'c':2}, 3)\n"
   ]
  },
  {
   "cell_type": "code",
   "execution_count": null,
   "id": "3fa0d23e",
   "metadata": {},
   "outputs": [],
   "source": [
    "#Q12.\n",
    "# Write a function invertDictionary(d) that takes in a dictionary as argument and return a dictionary that inverts the keys and the values of the original dictionary.\n",
    "# In - invertDictionary({'a':1, 'b':2, 'c':3, 'd':2})\n",
    "# Out - {1: ['a'], 2: ['b', 'd'], 3: ['c']}\n",
    "# In - invertDictionary({'a':3, 'b':3, 'c':3})\n",
    "# Out - {3: ['a', 'c', 'b']}\n",
    "# In - invertDictionary({'a':2, 'b':1, 'c':2, 'd':1})\n",
    "# Out - {1: ['b', 'd'], 2: ['a', 'c']}\n"
   ]
  },
  {
   "cell_type": "code",
   "execution_count": null,
   "id": "920c597d",
   "metadata": {},
   "outputs": [],
   "source": [
    "#Q13.\n",
    "# Write a function that converts a sparse vector into a dictionary as described above.\n",
    "# In - convertVector([1, 0, 0, 2, 0, 0, 0, 3, 0, 0, 0, 0, 4])\n",
    "# Out - {0: 1, 3: 2, 7: 3, 12: 4}\n",
    "# In - convertVector([1, 0, 1 , 0, 2, 0, 1, 0, 0, 1, 0])\n",
    "# Out - {0: 1, 2: 1, 4: 2, 6: 1, 9: 1}\n",
    "# In - convertVector([0, 0, 0, 0, 0])\n",
    "# Out - {}\n"
   ]
  },
  {
   "cell_type": "code",
   "execution_count": null,
   "id": "b36bab73",
   "metadata": {},
   "outputs": [],
   "source": [
    "#Q14.\n",
    "# Write a function that converts a dictionary back to its sparse vector representation.\n",
    "# In - convertDictionary({0: 1, 3: 2, 7: 3, 12: 4})\n",
    "# Out - [1, 0, 0, 2, 0, 0, 0, 3, 0, 0, 0, 0, 4]\n",
    "# In - convertDictionary({0: 1, 2: 1, 4: 2, 6: 1, 9: 1})\n",
    "# Out - [1, 0, 1, 0, 2, 0, 1, 0, 0, 1]\n",
    "# In - convertDictionary({})\n",
    "# Out - []\n",
    "\n"
   ]
  },
  {
   "cell_type": "code",
   "execution_count": 2,
   "id": "e74d5e8a",
   "metadata": {},
   "outputs": [
    {
     "name": "stdout",
     "output_type": "stream",
     "text": [
      "{'emp1': {'name': 'Jhon', 'salary': 7500}, 'emp2': {'name': 'Emma', 'salary': 8000}, 'emp3': {'name': 'Brad', 'salary': 8500}}\n"
     ]
    }
   ],
   "source": [
    "#Q15.\n",
    "# Given a Python dictionary, Change Brad’s salary to 8500\n",
    "# sampleDict = {\n",
    "#      'emp1': {'name': 'Jhon', 'salary': 7500},\n",
    "#      'emp2': {'name': 'Emma', 'salary': 8000},\n",
    "#      'emp3': {'name': 'Brad', 'salary': 6500}\n",
    "# }\n",
    "\n",
    "# Expected Output\n",
    "# sampleDict = {\n",
    "#      'emp1': {'name': 'Jhon', 'salary': 7500},\n",
    "#      'emp2': {'name': 'Emma', 'salary': 8000},\n",
    "#      'emp3': {'name': 'Brad', 'salary': 8500}\n",
    "# }\n",
    "\n",
    "sampleDict = {\n",
    "      'emp1': {'name': 'Jhon', 'salary': 7500},\n",
    "      'emp2': {'name': 'Emma', 'salary': 8000},\n",
    "      'emp3': {'name': 'Brad', 'salary': 6500}\n",
    "}\n",
    "\n",
    "\n",
    "sampleDict['emp3']['salary']=8500\n",
    "\n",
    "print(sampleDict)\n",
    "\n",
    "\n",
    "\n",
    "\n",
    "\n",
    "\n",
    "\n"
   ]
  },
  {
   "cell_type": "code",
   "execution_count": 4,
   "id": "f253a4e7",
   "metadata": {},
   "outputs": [
    {
     "name": "stdout",
     "output_type": "stream",
     "text": [
      "Math\n"
     ]
    }
   ],
   "source": [
    "#Q16.\n",
    "# Get the key corresponding to the minimum value from the following dictionary\n",
    "# sampleDict = {\n",
    "#   'Physics': 82,\n",
    "#   'Math': 65,\n",
    "#   'history': 75\n",
    "# }\n",
    "\n",
    "# Expected Output\n",
    "# Math\n",
    "\n",
    "sampleDict = {\n",
    "   'Physics': 82,\n",
    "   'Math': 65,\n",
    "   'history': 75\n",
    "}\n",
    "print(min(sampleDict,key=sampleDict.get))    "
   ]
  },
  {
   "cell_type": "code",
   "execution_count": 59,
   "id": "a0834919",
   "metadata": {},
   "outputs": [
    {
     "name": "stdout",
     "output_type": "stream",
     "text": [
      "{'name': 'Kelly', 'age': 25, 'salary': 8000, 'city': 'New york', 'location': 'New york'}\n"
     ]
    }
   ],
   "source": [
    "#Q17.\n",
    "# Rename key city to location in the following dictionary\n",
    "# sampleDict = {\n",
    "#   \"name\": \"Kelly\",\n",
    "#   \"age\":25,\n",
    "#   \"salary\": 8000,\n",
    "#   \"city\": \"New york\"\n",
    "# }\n",
    "\n",
    "# Expected Output\n",
    "# {\n",
    "#   \"name\": \"Kelly\",\n",
    "#   \"age\":25,\n",
    "#   \"salary\": 8000,\n",
    "#   \"location\": \"New york\"\n",
    "# }\n",
    "\n",
    "sampleDict = {\n",
    "  \"name\": \"Kelly\",\n",
    "   \"age\":25,\n",
    "   \"salary\": 8000,\n",
    "   \"city\": \"New york\"\n",
    " }\n",
    "\n",
    "sampleDict[\"location\"]=sampleDict[\"city\"]\n",
    "\n",
    "print(sampleDict)\n",
    "\n",
    "\n"
   ]
  },
  {
   "cell_type": "code",
   "execution_count": 2,
   "id": "bb276600",
   "metadata": {},
   "outputs": [
    {
     "name": "stdout",
     "output_type": "stream",
     "text": [
      "True\n"
     ]
    }
   ],
   "source": [
    "#Q18.\n",
    "# Check if a value 200 exists in a dictionary\n",
    "# sampleDict = {'a': 100, 'b': 200, 'c': 300}\n",
    "\n",
    "# Expected Output: True\n",
    "\n",
    "sampleDict = {'a': 100, 'b': 200, 'c': 300}\n",
    "if 200 in sampleDict.values():\n",
    "    print('True')\n",
    "\n"
   ]
  },
  {
   "cell_type": "code",
   "execution_count": 53,
   "id": "55e1a8e3",
   "metadata": {},
   "outputs": [
    {
     "name": "stdout",
     "output_type": "stream",
     "text": [
      "{'age': 25, 'city': 'New york'}\n"
     ]
    }
   ],
   "source": [
    "#Q19.\n",
    "# Delete set of keys from Python Dictionary\n",
    "# sampleDict = {\n",
    "#   \"name\": \"Kelly\",\n",
    "#   \"age\":25,\n",
    "#   \"salary\": 8000,\n",
    "#   \"city\": \"New york\"\n",
    "  \n",
    "# }\n",
    "# keysToRemove = [\"name\", \"salary\"]\n",
    "\n",
    "# Expected Output:\n",
    "# {'city': 'New york', 'age': 25}\n",
    "\n",
    "\n",
    "sampleDict = {\n",
    "   \"name\": \"Kelly\",\n",
    "   \"age\":25,\n",
    "   \"salary\": 8000,\n",
    "   \"city\": \"New york\"\n",
    "}\n",
    "  \n",
    "sampleDict.pop(\"name\")\n",
    "sampleDict.pop(\"salary\")\n",
    "print(sampleDict)\n"
   ]
  },
  {
   "cell_type": "code",
   "execution_count": 54,
   "id": "182bf044",
   "metadata": {},
   "outputs": [],
   "source": [
    "#dir(dict)"
   ]
  },
  {
   "cell_type": "code",
   "execution_count": null,
   "id": "f8aeeb28",
   "metadata": {},
   "outputs": [],
   "source": []
  }
 ],
 "metadata": {
  "kernelspec": {
   "display_name": "Python 3 (ipykernel)",
   "language": "python",
   "name": "python3"
  },
  "language_info": {
   "codemirror_mode": {
    "name": "ipython",
    "version": 3
   },
   "file_extension": ".py",
   "mimetype": "text/x-python",
   "name": "python",
   "nbconvert_exporter": "python",
   "pygments_lexer": "ipython3",
   "version": "3.9.7"
  }
 },
 "nbformat": 4,
 "nbformat_minor": 5
}
