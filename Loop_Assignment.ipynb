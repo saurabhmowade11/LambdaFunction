{
 "cells": [
  {
   "cell_type": "code",
   "execution_count": 3,
   "id": "9fc3a543",
   "metadata": {},
   "outputs": [
    {
     "name": "stdout",
     "output_type": "stream",
     "text": [
      "Enter a number from the range 0-9:==>0\n",
      "0 ---> zero\n"
     ]
    }
   ],
   "source": [
    "#Q1\n",
    "#.W. A P. which takes one number from 0 to 9 from the user and prints\n",
    "#it in the word. And if the word is not from 0 to 9 then\n",
    "#it should print that number is outside of the range and program should\n",
    "#exit.\n",
    "#For exapmple:-\n",
    "#input = 1\n",
    "#output = one\n",
    "\n",
    "num=int(input(\"Enter a number from the range 0-9:==>\"))\n",
    "if(num==1):\n",
    "    print(num,\"---> one\")\n",
    "elif(num==2):\n",
    "    print(num,\"---> two\")\n",
    "elif(num==3):\n",
    "    print(num,\"---> three\")\n",
    "elif(num==4):\n",
    "    print(num,\"---> four\")\n",
    "elif(num==5):\n",
    "    print(num,\"---> five\")\n",
    "elif(num==6):\n",
    "    print(num,\"---> six\")\n",
    "elif(num==7):\n",
    "    print(num,\"---> seven\")\n",
    "elif(num==8):\n",
    "    print(num,\"---> eight\")\n",
    "elif(num==9):\n",
    "    print(num,\"---> nine\")\n",
    "elif(num==0):\n",
    "    print(num,\"---> zero\")\n",
    "else:\n",
    "    print(\"Wrong input number is outside of the range 0-9\")\n",
    "    \n"
   ]
  },
  {
   "cell_type": "code",
   "execution_count": 22,
   "id": "02aae5e1",
   "metadata": {},
   "outputs": [
    {
     "name": "stdout",
     "output_type": "stream",
     "text": [
      "Select from the below mentioned operation\n",
      "\n",
      "To Add Enter 1\n",
      "To Subtract Enter 2\n",
      "To Multiply Enter 3\n",
      "To Divide Enter 4\n",
      "To Divide and find the qutient Enter 5\n",
      "To Divide and find the remainder Enter 6\n",
      "To find num1 to the power num2 Enter 7\n",
      "To came out of the program Enter 8\n",
      "\n",
      "\n",
      "Enter the number corresponding to the above mentioned operation you want to perform:  8\n"
     ]
    }
   ],
   "source": [
    "#Q2.\n",
    "\n",
    "#W. A P. to implement calculator but the operation to be done and two\n",
    "#numbers will be taken as input from user:-\n",
    "#Operation console should show below:-\n",
    "#Please select any one operation from below:-\n",
    "#* To add enter 1\n",
    "#* to subtract enter 2\n",
    "#* To multiply enter 3\n",
    "#* To divide enter 4\n",
    "#* To divide and find quotient enter 5\n",
    "#* To divide and find remainder enter 6\n",
    "#* To divide and find num1 to the power of num2 enter 7\n",
    "#* To Come out of the program enter 8\n",
    "\n",
    "print(\"Select from the below mentioned operation\\n\")\n",
    "print(\"To Add Enter 1\")\n",
    "print(\"To Subtract Enter 2\")\n",
    "print(\"To Multiply Enter 3\")\n",
    "print(\"To Divide Enter 4\")\n",
    "print(\"To Divide and find the qutient Enter 5\")\n",
    "print(\"To Divide and find the remainder Enter 6\")\n",
    "print(\"To find num1 to the power num2 Enter 7\")\n",
    "print(\"To came out of the program Enter 8\\n\")\n",
    "choice=int(input(\"\\nEnter the number corresponding to the above mentioned operation you want to perform:  \"))\n",
    "lst1=[1,2,3,4,5,6,7,8]\n",
    "if(choice not in lst1):\n",
    "    print(\"\\nInvalid input Enter the valid number code from the above options to perform the operation\\n\")\n",
    "else:\n",
    "   # for choice in lst1:\n",
    "        if(choice==1):\n",
    "            num1=int(input(\"Enter the first number:-->\"))\n",
    "            num2=int(input(\"Enter the second number:-->\"))\n",
    "            print(\"Addition of two numbers is: \",num1+num2)\n",
    "        elif(choice==2):\n",
    "            num1=int(input(\"Enter the first number:-->\"))\n",
    "            num2=int(input(\"Enter the second number:-->\"))\n",
    "            print(\"Subtraction of two numbers is: \",num1-num2)\n",
    "        elif(choice==3):\n",
    "            num1=int(input(\"Enter the first number:-->\"))\n",
    "            num2=int(input(\"Enter the second number:-->\"))\n",
    "            print(\"Multif of two numbers is: \",num1*num2)\n",
    "        elif(choice==4):\n",
    "            num1=float(input(\"Enter the first number:-->\"))\n",
    "            num2=float(input(\"Enter the second number:-->\"))\n",
    "            print(\"Division of two numbers is: \",num1/num2)\n",
    "        elif(choice==5):\n",
    "            num1=float(input(\"Enter the first number:-->\"))\n",
    "            num2=float(input(\"Enter the second number:-->\"))\n",
    "            print(\"Quotient of Division of two numbers is: \",num1//num2)\n",
    "        elif(choice==6):\n",
    "            num1=float(input(\"Enter the first number:-->\"))\n",
    "            num2=float(input(\"Enter the second number:-->\"))\n",
    "            print(\"Remainder of Division of two numbers is: \",num1%num2)\n",
    "        elif(choice==7):\n",
    "            num1=int(input(\"Enter the first number:-->\"))\n",
    "            num2=int(input(\"Enter the second number:-->\"))\n",
    "            print(\"Number1 to the power Number2 is: \",num1**num2)\n",
    "        else:\n",
    "            if(choice==8):\n",
    "                exit()\n"
   ]
  },
  {
   "cell_type": "code",
   "execution_count": 6,
   "id": "3c5d7e30",
   "metadata": {},
   "outputs": [
    {
     "name": "stdout",
     "output_type": "stream",
     "text": [
      "Enter the year: 88\n",
      "Entered year is leap year\n"
     ]
    }
   ],
   "source": [
    "#Q3.\n",
    "\n",
    "#W A P to check whether a year entered by user is an leap year or not ?\n",
    "#Check with below input:-\n",
    "#leap year:- 2012 , 1968 , 2004 , 1200 , 1600 , 2400\n",
    "#Non-lear year:- 1971 , 2006 , 1700 , 1800 , 1900\n",
    "\n",
    "year= int(input(\"Enter the year: \"))\n",
    "if(year%4==0):\n",
    "    if(year%100==0):\n",
    "        if(year%400==0):\n",
    "            print(\"Entered year is leap year\")\n",
    "        else:\n",
    "            print(\"Entered year is not a leap year\")\n",
    "    else:\n",
    "        print(\"Entered year is leap year\")\n",
    "else:\n",
    "    print(\"Entered year is not a leap year\")"
   ]
  },
  {
   "cell_type": "code",
   "execution_count": 10,
   "id": "b6c92b7f",
   "metadata": {},
   "outputs": [
    {
     "name": "stdout",
     "output_type": "stream",
     "text": [
      "Enter the number:-->8\n",
      "8  is a even number\n"
     ]
    }
   ],
   "source": [
    "#Q4.\n",
    "#W A P which takes one number from the user and checks whether it is\n",
    "#an even or odd number?, If it even then prints number is\n",
    "#even number else prints that number is odd number.\n",
    "\n",
    "num1=int(input(\"Enter the number:-->\"))\n",
    "if(num1%2==0):\n",
    "    print(num1,\" is a even number\")\n",
    "else:\n",
    "    print(num1,\" is a odd number\")"
   ]
  },
  {
   "cell_type": "code",
   "execution_count": 22,
   "id": "6864c302",
   "metadata": {},
   "outputs": [
    {
     "name": "stdout",
     "output_type": "stream",
     "text": [
      "Enter the first number:--> 5\n",
      "Enter the second number:--> 5\n",
      "\n",
      "Both numbers are equal\n"
     ]
    }
   ],
   "source": [
    "#Q5.1\n",
    "#W A P which takes two numbers from the user and prints below output:-\n",
    "#1 . num1 is greater than num2 if num1 is greater than num2\n",
    "#2 . num1 is smaller than num2 if num1 is smaller than num2\n",
    "#3 . num1 is equal to num2 if num1 and num2 are equal\n",
    "#Note:- 1 . Do this problem using if - else\n",
    "#2 . Do this using ternary operator\n",
    "\n",
    "num1=int(input(\"Enter the first number:--> \"))\n",
    "num2=int(input(\"Enter the second number:--> \"))\n",
    "if(num1==num2):\n",
    "    print(\"\\nBoth numbers are equal\")\n",
    "else:\n",
    "    num3=num1 if num1>num2 else num2\n",
    "    print(num3, f\" is the greater between two numbers {num1} and {num2}\")"
   ]
  },
  {
   "cell_type": "code",
   "execution_count": 34,
   "id": "cf168608",
   "metadata": {},
   "outputs": [
    {
     "name": "stdout",
     "output_type": "stream",
     "text": [
      "Enter the first number:--> 8\n",
      "Enter the second number:--> 9\n",
      "9 is greater than 8 \n"
     ]
    }
   ],
   "source": [
    "#Q5.2\n",
    "#Doing the program using if-else\n",
    "\n",
    "num1=int(input(\"Enter the first number:--> \"))\n",
    "num2=int(input(\"Enter the second number:--> \"))\n",
    "if(num1==num2):\n",
    "    print(\"\\nBoth numbers are equal\")\n",
    "else:\n",
    "    if(num1>num2):\n",
    "        print(f'{num1} is greater than {num2} ')\n",
    "    else:\n",
    "        print(f'{num2} is greater than {num1} ')\n"
   ]
  },
  {
   "cell_type": "code",
   "execution_count": 37,
   "id": "0eddb329",
   "metadata": {},
   "outputs": [
    {
     "name": "stdout",
     "output_type": "stream",
     "text": [
      "Enter the first number:--> 9\n",
      "Enter the second number:--> 9\n",
      "Enter the third number:--> 6\n",
      "9 is the greatest amongst three number 9, 9 and 6\n"
     ]
    }
   ],
   "source": [
    "#Q6.1\n",
    "#W A P which takes three numbers from the user and prints below\n",
    "#output:-\n",
    "#1 . num1 is greater than num2 and num3 if num1 is greater than num2\n",
    "#and num3\n",
    "#2 . num2 is greater than num1 and num3 if num2 is greater than num1\n",
    "#and num3\n",
    "#3 . num3 is greater than num1 and num2 if num3 is greater than num1\n",
    "#and num2\n",
    "#Note:- 1 . Do this problem using if - elif - else\n",
    "#2 . Do this using ternary operator\n",
    "#a = a if a>b else b\n",
    "\n",
    "#Doing the programm using ternary operator\n",
    "num1=int(input(\"Enter the first number:--> \"))\n",
    "num2=int(input(\"Enter the second number:--> \"))\n",
    "num3=int(input(\"Enter the third number:--> \"))\n",
    "if(num1==num2==num3):\n",
    "    print(f\"ALL three number {num1}, {num2}, {num3} are equal\")\n",
    "else:\n",
    "    num4=num1 if(num1>num2 and num1>num3) else num2 if(num2>num3) else num3\n",
    "    print(num4, f\"is the greatest amongst three number {num1}, {num2} and {num3}\")"
   ]
  },
  {
   "cell_type": "code",
   "execution_count": 41,
   "id": "9ddddbbb",
   "metadata": {},
   "outputs": [
    {
     "name": "stdout",
     "output_type": "stream",
     "text": [
      "Enter the first number:--> 6\n",
      "Enter the second number:--> 6\n",
      "Enter the third number:--> 9\n",
      "9 is greater than 6 and 6\n"
     ]
    }
   ],
   "source": [
    "#Q6.2\n",
    "# Doing the program using if-elif-else\n",
    "num1=int(input(\"Enter the first number:--> \"))\n",
    "num2=int(input(\"Enter the second number:--> \"))\n",
    "num3=int(input(\"Enter the third number:--> \"))\n",
    "if(num1==num2==num3):\n",
    "    print(f\"ALL three number {num1}, {num2}, {num3} are equal\")\n",
    "else:\n",
    "    if(num1>=num2 and num1>=num3):\n",
    "        print(f'{num1} is greater than {num2} and {num3}')\n",
    "    elif(num2>=num1 and num2>=num3):\n",
    "        print(f'{num2} is greater than {num1} and {num3}')\n",
    "    else:\n",
    "        print(f'{num3} is greater than {num1} and {num2}')\n"
   ]
  },
  {
   "cell_type": "code",
   "execution_count": 1,
   "id": "b86f2a44",
   "metadata": {},
   "outputs": [
    {
     "name": "stdout",
     "output_type": "stream",
     "text": [
      "55\n"
     ]
    }
   ],
   "source": [
    "#Q7.\n",
    "\n",
    "#Write a Python program to find the length of the my_str using loop:-\n",
    "#Input:- 'Write a Python program to find the length of the my_str'\n",
    "#Output:- 55\n",
    "    \n",
    "my_str='Write a Python program to find the length of the my_str'\n",
    "ind=0\n",
    "while(ind<len(my_str)):\n",
    "                      ind+=1\n",
    "                      continue\n",
    "print(ind)"
   ]
  },
  {
   "cell_type": "code",
   "execution_count": 9,
   "id": "e38aa4b6",
   "metadata": {},
   "outputs": [
    {
     "name": "stdout",
     "output_type": "stream",
     "text": [
      "9\n"
     ]
    }
   ],
   "source": [
    "#Q7.\n",
    "\n",
    "#Write a Python program to find the total number of times letter 'p'\n",
    "#is appeared in the below string using loop:-\n",
    "#Input:- 'peter piper picked a peck of pickled peppers.\\n'\n",
    "#Output:- 9\n",
    "\n",
    "my_str='peter piper picked a peck of pickled peppers.\\n'\n",
    "sub_str='p'\n",
    "count=0\n",
    "for i in range(len(my_str)):\n",
    "    if(my_str[i]=='p'):\n",
    "        count+=1\n",
    "print(count)\n"
   ]
  },
  {
   "cell_type": "code",
   "execution_count": 2,
   "id": "9e4b9675",
   "metadata": {},
   "outputs": [
    {
     "name": "stdout",
     "output_type": "stream",
     "text": [
      "0\n",
      "6\n",
      "8\n",
      "12\n",
      "21\n",
      "29\n",
      "37\n",
      "39\n",
      "40\n"
     ]
    }
   ],
   "source": [
    "#Q8.\n",
    "\n",
    "#Write a Python Program, to print all the indexes of all occurences of\n",
    "#letter 'p' appeared in the string using loop:-\n",
    "#Input:- 'peter piper picked a peck of pickled peppers.'\n",
    "#Output:-\n",
    "#0\n",
    "#6\n",
    "#8\n",
    "#12\n",
    "#21\n",
    "#29\n",
    "#37\n",
    "#39\n",
    "#40\n",
    "\n",
    "\n",
    "my_str='peter piper picked a peck of pickled peppers.'\n",
    "ind=0\n",
    "while(ind<len(my_str)):\n",
    "    if(my_str[ind]=='p'):\n",
    "        print(ind)\n",
    "        ind+=1\n",
    "        continue\n",
    "    else:\n",
    "        ind+=1\n"
   ]
  },
  {
   "cell_type": "code",
   "execution_count": 3,
   "id": "31294dcd",
   "metadata": {},
   "outputs": [
    {
     "name": "stdout",
     "output_type": "stream",
     "text": [
      "['peter', 'piper', 'picked', 'a', 'peck', 'of', 'pickled', 'peppers.']\n"
     ]
    }
   ],
   "source": [
    "#Q9.\n",
    "#Write a python program to find below output using loop:-\n",
    "#Input:- 'peter piper picked a peck of pickled peppers.'\n",
    "#Output:- [ 'peter' , 'piper' , 'picked' , 'a' , 'peck' , 'of' , 'pickled' ,\n",
    "#'peppers' ]\n",
    "\n",
    "\n",
    "#my_str='peter piper picked a peck of pickled peppers.'\n",
    "#char=''\n",
    "#for i in range(len(my_str)-1):\n",
    "#    if(my_str[i]!=' '):\n",
    "#        char=char+ my_str[i]\n",
    "#    elif(my_str[i]==' '):\n",
    "#        char=char+' '\n",
    "#else:\n",
    "#    print(char.split())\n",
    "\n",
    "my_str='peter piper picked a peck of pickled peppers.'\n",
    "out_lst=[]\n",
    "char=''\n",
    "for i in range(len(my_str)):\n",
    "    if(my_str[i]==' '):\n",
    "        out_lst=out_lst+[char]\n",
    "        char=''\n",
    "    else:\n",
    "        char=char+my_str[i]\n",
    "else:\n",
    "    out_lst=out_lst+[char]\n",
    "    print(out_lst)\n",
    "\n"
   ]
  },
  {
   "cell_type": "code",
   "execution_count": 16,
   "id": "a74b6a9c",
   "metadata": {},
   "outputs": [
    {
     "name": "stdout",
     "output_type": "stream",
     "text": [
      "peppers pickled of peck a picked piper peter\n"
     ]
    }
   ],
   "source": [
    "#Q10.\n",
    "#Write a python program to find below output using loop:-\n",
    "#Input:- 'peter piper picked a peck of pickled peppers'\n",
    "#Output:- 'peppers pickled of peck a picked piper peter'\n",
    "    \n",
    "    \n",
    "\n",
    "my_str='peter piper picked a peck of pickled peppers.'\n",
    "char=''\n",
    "for i in range(len(my_str)-1):\n",
    "    if(my_str[i]!=' '):\n",
    "        char=char+ my_str[i]\n",
    "    elif(my_str[i]==' '):\n",
    "        char=char+' '\n",
    "else:\n",
    "    print(' '.join(char.split()[::-1]))    \n",
    "    \n",
    "    "
   ]
  },
  {
   "cell_type": "code",
   "execution_count": 20,
   "id": "38675e29",
   "metadata": {},
   "outputs": [
    {
     "name": "stdout",
     "output_type": "stream",
     "text": [
      ".sreppep delkcip fo kcep a dekcip repip retep\n"
     ]
    }
   ],
   "source": [
    "#Q.11\n",
    "#Write a python program to find below output using loop:-\n",
    "#Input:- 'peter piper picked a peck of pickled peppers.'\n",
    "#Output:- '.sreppep delkcip fo kcep a dekcip repip retep'\n",
    "\n",
    "#my_str='peter piper picked a peck of pickled peppers.'\n",
    "#char=''\n",
    "#for i in range(len(my_str)):\n",
    "#    if(my_str[i]!=' '):\n",
    "#        char=char+ my_str[i]\n",
    "#   elif(my_str[i]==' '):\n",
    "#        char=char+' '\n",
    "#else:\n",
    "#    print(char[::-1])    \n",
    "\n",
    "my_str='peter piper picked a peck of pickled peppers.'\n",
    "\n",
    "count=len(my_str)\n",
    "char=''\n",
    "while(count>0):\n",
    "    char=char+my_str[count-1]\n",
    "    count=count-1\n",
    "    \n",
    "print(char)\n",
    "    \n"
   ]
  },
  {
   "cell_type": "code",
   "execution_count": 20,
   "id": "630252df",
   "metadata": {},
   "outputs": [
    {
     "name": "stdout",
     "output_type": "stream",
     "text": [
      "retep repip dekcip a kcep fo delkcip sreppep\n"
     ]
    }
   ],
   "source": [
    "#Q.12\n",
    "#Write a python program to find below output using loop:-\n",
    "#Input:- 'peter piper picked a peck of pickled peppers.'\n",
    "#Output:- 'retep repip dekcip a kcep fo delkcip sreppep'\n",
    "\n",
    "my_str='peter piper picked a peck of pickled peppers.'\n",
    "char=''\n",
    "for i in range(len(my_str)-1):\n",
    "    if(my_str[i]!=' '):\n",
    "        char=char+ my_str[i]\n",
    "    elif(my_str[i]==' '):\n",
    "        char=char+' '\n",
    "else:\n",
    "    print(' '.join(char[::-1].split()[::-1]))"
   ]
  },
  {
   "cell_type": "code",
   "execution_count": 21,
   "id": "5b679bfa",
   "metadata": {},
   "outputs": [
    {
     "name": "stdout",
     "output_type": "stream",
     "text": [
      "Peter Piper Picked A Peck Of Pickled Peppers\n"
     ]
    }
   ],
   "source": [
    "#Q13.\n",
    "#Write a python program to find below output using loop:-\n",
    "#Input:- 'peter piper picked a peck of pickled peppers.'\n",
    "#Output:- 'Peter Piper Picked A Peck Of Pickled Peppers'\n",
    "\n",
    "\n",
    "my_str='peter piper picked a peck of pickled peppers.'\n",
    "char=''\n",
    "for i in range(len(my_str)-1):\n",
    "    if(my_str[i]!=' '):\n",
    "        char=char+ my_str[i]\n",
    "    elif(my_str[i]==' '):\n",
    "        char=char+' '\n",
    "else:\n",
    "    print(char.title())\n",
    "\n"
   ]
  },
  {
   "cell_type": "code",
   "execution_count": 2,
   "id": "7680f487",
   "metadata": {},
   "outputs": [
    {
     "name": "stdout",
     "output_type": "stream",
     "text": [
      "Peter piper picked a peck of pickled peppers\n"
     ]
    }
   ],
   "source": [
    "#Q14.\n",
    "#Write a python program to find below output using loop:-\n",
    "#Input:- 'Peter Piper Picked A Peck Of Pickled Peppers.'\n",
    "#Output:- 'Peter piper picked a peck of pickled peppers'\n",
    "\n",
    "my_str='peter piper picked a peck of pickled peppers.'\n",
    "char=''\n",
    "for i in range(len(my_str)-1):\n",
    "    if(my_str[i]!=' '):\n",
    "        char=char+ my_str[i]\n",
    "    elif(my_str[i]==' '):\n",
    "        char=char+' '\n",
    "else:\n",
    "    print(char.capitalize())\n",
    "\n",
    "    "
   ]
  },
  {
   "cell_type": "code",
   "execution_count": 4,
   "id": "6ae1d78f",
   "metadata": {},
   "outputs": [
    {
     "name": "stdout",
     "output_type": "stream",
     "text": [
      "29\n"
     ]
    }
   ],
   "source": [
    "#Q15.\n",
    "\n",
    "#Write a python program to implement index method using loop. If\n",
    "#sub_str is found in my_str then it will print the index\n",
    "#of first occurrence of first character of matching string in my_str:-\n",
    "#Input:- my_str = 'Peter Piper Picked A Peck Of Pickled Peppers.' ,\n",
    "#sub_str = 'Pickl'\n",
    "#Output:- 29\n",
    "my_str='Peter Piper Picked A Peck Of Pickled Peppers.'\n",
    "sub_str = 'Pickl'\n",
    "for i in range(len(my_str)):\n",
    "    if(my_str[i:i+len(sub_str)]==sub_str):\n",
    "        print(i)\n"
   ]
  },
  {
   "cell_type": "code",
   "execution_count": 13,
   "id": "0a3a2af9",
   "metadata": {},
   "outputs": [
    {
     "name": "stdout",
     "output_type": "stream",
     "text": [
      "Peter Piper Picked A Pack Of Pickled Peppers.\n"
     ]
    }
   ],
   "source": [
    "#Q16.\n",
    "#Write a python program to implement replace method using loop. If\n",
    "#sub_str is found in my_str then it will replace the first\n",
    "#occurrence of sub_str with new_str else it will will print sub_str not\n",
    "#found:-\n",
    "#Input:- my_str = 'Peter Piper Picked A Peck Of Pickled Peppers.' ,\n",
    "#sub_str = 'Peck' , new_str = 'Pack'\n",
    "#Output:- 'Peter Piper Picked A Pack Of Pickled Peppers.'\n",
    "\n",
    "#my_str='Peter Piper Picked A Peck Of Pickled Peppers.'\n",
    "#sub_str='Peck'\n",
    "#new_str='Pack'\n",
    "#if(sub_str not in my_str):\n",
    "#    print(\"sub string not found\")\n",
    "#else:\n",
    "#    for i in range(len(my_str)):\n",
    "#            if(my_str[i:i+len(sub_str)]==sub_str):\n",
    "#                break\n",
    "#    print(my_str.replace(sub_str,new_str))\n",
    "\n",
    "my_str='Peter Piper Picked A Peck Of Pickled Peppers.'\n",
    "sub_str='Peck'\n",
    "new_str='Pack'\n",
    "check_str=''\n",
    "if(sub_str not in my_str):\n",
    "    print(\"Sub String is not found in main string\")\n",
    "else:\n",
    "    for i in range(len(my_str)):\n",
    "        if(my_str[i]=='P'):\n",
    "            check_str=my_str[i:i+4]\n",
    "            if(check_str==sub_str):\n",
    "                print(my_str.replace(sub_str,new_str))"
   ]
  },
  {
   "cell_type": "code",
   "execution_count": 6,
   "id": "1efdcb1f",
   "metadata": {},
   "outputs": [],
   "source": [
    "#Q17.\n",
    "#Write a python program to find below output (implements rjust and\n",
    "#ljust) using loop:-\n",
    "#Input:- 'Peter Piper Picked A Peck Of Pickled Peppers.' , sub_str =\n",
    "#'Peck' ,\n",
    "#Output:- '*********************Peck********************'\n",
    "my_str='Peter Piper Picked A Peck Of Pickled Peppers.'\n",
    "\n"
   ]
  },
  {
   "cell_type": "code",
   "execution_count": 2,
   "id": "aa225bfc",
   "metadata": {},
   "outputs": [
    {
     "name": "stdout",
     "output_type": "stream",
     "text": [
      "['This', 'is', 'Python class']\n"
     ]
    }
   ],
   "source": [
    "#Q18.\n",
    "#Write a python program to find below output using loop:-\n",
    "#Input:- 'This is Python class' , sep = ' is' ,\n",
    "#Output:- [ 'This' , 'is' , 'Python class' ]\n",
    "#my_str='This is Python class'\n",
    "#char=''\n",
    "#for i in range(len(my_str)-1):\n",
    "#    if(my_str[i]!=' '):\n",
    "#        char=char+ my_str[i]\n",
    "#    elif(my_str[i]==' '):\n",
    "#        char=char+' '\n",
    "#else:\n",
    "#    print(char.split(sep=' is'))\n",
    "\n",
    "my_str='This is Python class'\n",
    "sep='is'\n",
    "out_lst=[]\n",
    "word=''\n",
    "for i in range(len(my_str)):\n",
    "    if (sep in out_lst):\n",
    "        word=word+my_str[i]\n",
    "    elif(my_str[i]!=' '):\n",
    "        word=word+my_str[i]\n",
    "    elif(sep not in out_lst):\n",
    "        out_lst=out_lst+[word]\n",
    "        word=''\n",
    "else:\n",
    "    out_lst=out_lst+[word]\n",
    "    print(out_lst)"
   ]
  },
  {
   "cell_type": "code",
   "execution_count": null,
   "id": "a9e95f20",
   "metadata": {},
   "outputs": [],
   "source": []
  }
 ],
 "metadata": {
  "kernelspec": {
   "display_name": "Python 3 (ipykernel)",
   "language": "python",
   "name": "python3"
  },
  "language_info": {
   "codemirror_mode": {
    "name": "ipython",
    "version": 3
   },
   "file_extension": ".py",
   "mimetype": "text/x-python",
   "name": "python",
   "nbconvert_exporter": "python",
   "pygments_lexer": "ipython3",
   "version": "3.9.7"
  }
 },
 "nbformat": 4,
 "nbformat_minor": 5
}
